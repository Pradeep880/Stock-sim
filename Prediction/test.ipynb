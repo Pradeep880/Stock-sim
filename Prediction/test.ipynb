{
 "cells": [
  {
   "cell_type": "code",
   "execution_count": 1,
   "metadata": {},
   "outputs": [],
   "source": [
    "import yfinance as yf;"
   ]
  },
  {
   "cell_type": "code",
   "execution_count": 2,
   "metadata": {},
   "outputs": [
    {
     "name": "stdout",
     "output_type": "stream",
     "text": [
      "2025-01-04 18:05:58.369440\n"
     ]
    }
   ],
   "source": [
    "from datetime import datetime\n",
    "end = datetime.now()\n",
    "print(end)\n",
    "start = datetime(end.year-10, end.month, end.day)"
   ]
  },
  {
   "cell_type": "code",
   "execution_count": 3,
   "metadata": {},
   "outputs": [
    {
     "name": "stderr",
     "output_type": "stream",
     "text": [
      "[*********************100%***********************]  1 of 1 completed\n"
     ]
    },
    {
     "data": {
      "text/plain": [
       "2517"
      ]
     },
     "execution_count": 3,
     "metadata": {},
     "output_type": "execute_result"
    }
   ],
   "source": [
    "stock = \"AAPL\"\n",
    "apple_data = yf.download(stock, start, end)\n",
    "apple_data.to_csv('aapl.csv')\n",
    "len(apple_data)"
   ]
  },
  {
   "cell_type": "code",
   "execution_count": 4,
   "metadata": {},
   "outputs": [],
   "source": [
    "import pandas as pd"
   ]
  },
  {
   "cell_type": "code",
   "execution_count": 5,
   "metadata": {},
   "outputs": [],
   "source": [
    "df = pd.read_csv('aapl.csv', skiprows=[1, 2])\n"
   ]
  },
  {
   "cell_type": "code",
   "execution_count": 6,
   "metadata": {},
   "outputs": [
    {
     "data": {
      "text/html": [
       "<div>\n",
       "<style scoped>\n",
       "    .dataframe tbody tr th:only-of-type {\n",
       "        vertical-align: middle;\n",
       "    }\n",
       "\n",
       "    .dataframe tbody tr th {\n",
       "        vertical-align: top;\n",
       "    }\n",
       "\n",
       "    .dataframe thead th {\n",
       "        text-align: right;\n",
       "    }\n",
       "</style>\n",
       "<table border=\"1\" class=\"dataframe\">\n",
       "  <thead>\n",
       "    <tr style=\"text-align: right;\">\n",
       "      <th></th>\n",
       "      <th>Price</th>\n",
       "      <th>Close</th>\n",
       "      <th>High</th>\n",
       "      <th>Low</th>\n",
       "      <th>Open</th>\n",
       "      <th>Volume</th>\n",
       "    </tr>\n",
       "  </thead>\n",
       "  <tbody>\n",
       "    <tr>\n",
       "      <th>0</th>\n",
       "      <td>2015-01-05</td>\n",
       "      <td>23.661276</td>\n",
       "      <td>24.195743</td>\n",
       "      <td>23.474213</td>\n",
       "      <td>24.115573</td>\n",
       "      <td>257142000</td>\n",
       "    </tr>\n",
       "    <tr>\n",
       "      <th>1</th>\n",
       "      <td>2015-01-06</td>\n",
       "      <td>23.663509</td>\n",
       "      <td>23.924061</td>\n",
       "      <td>23.300516</td>\n",
       "      <td>23.725864</td>\n",
       "      <td>263188400</td>\n",
       "    </tr>\n",
       "    <tr>\n",
       "      <th>2</th>\n",
       "      <td>2015-01-07</td>\n",
       "      <td>23.995316</td>\n",
       "      <td>24.095527</td>\n",
       "      <td>23.761486</td>\n",
       "      <td>23.872833</td>\n",
       "      <td>160423600</td>\n",
       "    </tr>\n",
       "    <tr>\n",
       "      <th>3</th>\n",
       "      <td>2015-01-08</td>\n",
       "      <td>24.917269</td>\n",
       "      <td>24.975170</td>\n",
       "      <td>24.206873</td>\n",
       "      <td>24.324903</td>\n",
       "      <td>237458000</td>\n",
       "    </tr>\n",
       "    <tr>\n",
       "      <th>4</th>\n",
       "      <td>2015-01-09</td>\n",
       "      <td>24.943989</td>\n",
       "      <td>25.220129</td>\n",
       "      <td>24.543138</td>\n",
       "      <td>25.090966</td>\n",
       "      <td>214798000</td>\n",
       "    </tr>\n",
       "  </tbody>\n",
       "</table>\n",
       "</div>"
      ],
      "text/plain": [
       "        Price      Close       High        Low       Open     Volume\n",
       "0  2015-01-05  23.661276  24.195743  23.474213  24.115573  257142000\n",
       "1  2015-01-06  23.663509  23.924061  23.300516  23.725864  263188400\n",
       "2  2015-01-07  23.995316  24.095527  23.761486  23.872833  160423600\n",
       "3  2015-01-08  24.917269  24.975170  24.206873  24.324903  237458000\n",
       "4  2015-01-09  24.943989  25.220129  24.543138  25.090966  214798000"
      ]
     },
     "execution_count": 6,
     "metadata": {},
     "output_type": "execute_result"
    }
   ],
   "source": [
    "df.head()"
   ]
  },
  {
   "cell_type": "code",
   "execution_count": 7,
   "metadata": {},
   "outputs": [
    {
     "data": {
      "text/html": [
       "<div>\n",
       "<style scoped>\n",
       "    .dataframe tbody tr th:only-of-type {\n",
       "        vertical-align: middle;\n",
       "    }\n",
       "\n",
       "    .dataframe tbody tr th {\n",
       "        vertical-align: top;\n",
       "    }\n",
       "\n",
       "    .dataframe thead th {\n",
       "        text-align: right;\n",
       "    }\n",
       "</style>\n",
       "<table border=\"1\" class=\"dataframe\">\n",
       "  <thead>\n",
       "    <tr style=\"text-align: right;\">\n",
       "      <th></th>\n",
       "      <th>Price</th>\n",
       "      <th>Close</th>\n",
       "      <th>High</th>\n",
       "      <th>Low</th>\n",
       "      <th>Open</th>\n",
       "      <th>Volume</th>\n",
       "    </tr>\n",
       "  </thead>\n",
       "  <tbody>\n",
       "    <tr>\n",
       "      <th>2512</th>\n",
       "      <td>2024-12-27</td>\n",
       "      <td>255.589996</td>\n",
       "      <td>258.700012</td>\n",
       "      <td>253.059998</td>\n",
       "      <td>257.829987</td>\n",
       "      <td>42355300</td>\n",
       "    </tr>\n",
       "    <tr>\n",
       "      <th>2513</th>\n",
       "      <td>2024-12-30</td>\n",
       "      <td>252.199997</td>\n",
       "      <td>253.500000</td>\n",
       "      <td>250.750000</td>\n",
       "      <td>252.229996</td>\n",
       "      <td>35557500</td>\n",
       "    </tr>\n",
       "    <tr>\n",
       "      <th>2514</th>\n",
       "      <td>2024-12-31</td>\n",
       "      <td>250.419998</td>\n",
       "      <td>253.279999</td>\n",
       "      <td>249.429993</td>\n",
       "      <td>252.440002</td>\n",
       "      <td>39480700</td>\n",
       "    </tr>\n",
       "    <tr>\n",
       "      <th>2515</th>\n",
       "      <td>2025-01-02</td>\n",
       "      <td>243.850006</td>\n",
       "      <td>249.100006</td>\n",
       "      <td>241.820007</td>\n",
       "      <td>248.929993</td>\n",
       "      <td>55740700</td>\n",
       "    </tr>\n",
       "    <tr>\n",
       "      <th>2516</th>\n",
       "      <td>2025-01-03</td>\n",
       "      <td>243.360001</td>\n",
       "      <td>244.179993</td>\n",
       "      <td>241.889999</td>\n",
       "      <td>243.360001</td>\n",
       "      <td>40202700</td>\n",
       "    </tr>\n",
       "  </tbody>\n",
       "</table>\n",
       "</div>"
      ],
      "text/plain": [
       "           Price       Close        High         Low        Open    Volume\n",
       "2512  2024-12-27  255.589996  258.700012  253.059998  257.829987  42355300\n",
       "2513  2024-12-30  252.199997  253.500000  250.750000  252.229996  35557500\n",
       "2514  2024-12-31  250.419998  253.279999  249.429993  252.440002  39480700\n",
       "2515  2025-01-02  243.850006  249.100006  241.820007  248.929993  55740700\n",
       "2516  2025-01-03  243.360001  244.179993  241.889999  243.360001  40202700"
      ]
     },
     "execution_count": 7,
     "metadata": {},
     "output_type": "execute_result"
    }
   ],
   "source": [
    "df.tail()"
   ]
  },
  {
   "cell_type": "code",
   "execution_count": 8,
   "metadata": {},
   "outputs": [
    {
     "data": {
      "text/plain": [
       "0        23.661276\n",
       "1        23.663509\n",
       "2        23.995316\n",
       "3        24.917269\n",
       "4        24.943989\n",
       "           ...    \n",
       "2512    255.589996\n",
       "2513    252.199997\n",
       "2514    250.419998\n",
       "2515    243.850006\n",
       "2516    243.360001\n",
       "Name: Close, Length: 2517, dtype: float64"
      ]
     },
     "execution_count": 8,
     "metadata": {},
     "output_type": "execute_result"
    }
   ],
   "source": [
    "df1=df.reset_index()['Close']\n",
    "# df1 = df1.drop([0, 1])\n",
    "df1"
   ]
  },
  {
   "cell_type": "code",
   "execution_count": null,
   "metadata": {},
   "outputs": [
    {
     "data": {
      "text/plain": [
       "[<matplotlib.lines.Line2D at 0x1e311beb980>]"
      ]
     },
     "execution_count": 9,
     "metadata": {},
     "output_type": "execute_result"
    }
   ],
   "source": [
    "import matplotlib.pyplot as plt\n",
    "plt.plot(df1)"
   ]
  },
  {
   "cell_type": "code",
   "execution_count": 10,
   "metadata": {},
   "outputs": [],
   "source": [
    "import numpy as np"
   ]
  },
  {
   "cell_type": "code",
   "execution_count": 11,
   "metadata": {},
   "outputs": [],
   "source": [
    "from sklearn.preprocessing import MinMaxScaler\n",
    "scaler=MinMaxScaler(feature_range=(0,1))\n",
    "df1=scaler.fit_transform(np.array(df1).reshape(-1,1))"
   ]
  },
  {
   "cell_type": "code",
   "execution_count": 12,
   "metadata": {},
   "outputs": [
    {
     "name": "stdout",
     "output_type": "stream",
     "text": [
      "[[0.01243692]\n",
      " [0.01244626]\n",
      " [0.01383857]\n",
      " ...\n",
      " [0.96391452]\n",
      " [0.93634689]\n",
      " [0.93429083]]\n"
     ]
    }
   ],
   "source": [
    "print(df1)"
   ]
  },
  {
   "cell_type": "code",
   "execution_count": 13,
   "metadata": {},
   "outputs": [],
   "source": [
    "##splitting dataset into train and test split\n",
    "training_size=int(len(df1)*0.65)\n",
    "test_size=len(df1)-training_size\n",
    "train_data,test_data=df1[0:training_size,:],df1[training_size:len(df1),:1]"
   ]
  },
  {
   "cell_type": "code",
   "execution_count": 14,
   "metadata": {},
   "outputs": [
    {
     "data": {
      "text/plain": [
       "array([[0.01243692],\n",
       "       [0.01244626],\n",
       "       [0.01383857],\n",
       "       ...,\n",
       "       [0.47690662],\n",
       "       [0.47818284],\n",
       "       [0.48925539]])"
      ]
     },
     "execution_count": 14,
     "metadata": {},
     "output_type": "execute_result"
    }
   ],
   "source": [
    "training_size,test_size\n",
    "train_data"
   ]
  },
  {
   "cell_type": "code",
   "execution_count": 15,
   "metadata": {},
   "outputs": [],
   "source": [
    "import numpy\n",
    "# convert an array of values into a dataset matrix\n",
    "def create_dataset(dataset, time_step=1):\n",
    "\tdataX, dataY = [], []\n",
    "\tfor i in range(len(dataset)-time_step-1):\n",
    "\t\ta = dataset[i:(i+time_step), 0]   ###i=0, 0,1,2,3-----99   100 \n",
    "\t\tdataX.append(a)\n",
    "\t\tdataY.append(dataset[i + time_step, 0])\n",
    "\treturn numpy.array(dataX), numpy.array(dataY)"
   ]
  },
  {
   "cell_type": "code",
   "execution_count": 16,
   "metadata": {},
   "outputs": [],
   "source": [
    "# reshape into X=t,t+1,t+2,t+3 and Y=t+4\n",
    "time_step = 100\n",
    "X_train, y_train = create_dataset(train_data, time_step)\n",
    "X_test, ytest = create_dataset(test_data, time_step) \n"
   ]
  },
  {
   "cell_type": "code",
   "execution_count": 17,
   "metadata": {},
   "outputs": [
    {
     "name": "stdout",
     "output_type": "stream",
     "text": [
      "(1535, 100)\n",
      "(1535,)\n"
     ]
    },
    {
     "data": {
      "text/plain": [
       "(None, None)"
      ]
     },
     "execution_count": 17,
     "metadata": {},
     "output_type": "execute_result"
    }
   ],
   "source": [
    "print(X_train.shape), print(y_train.shape)"
   ]
  },
  {
   "cell_type": "code",
   "execution_count": 18,
   "metadata": {},
   "outputs": [
    {
     "name": "stdout",
     "output_type": "stream",
     "text": [
      "(780, 100)\n",
      "(780,)\n"
     ]
    },
    {
     "data": {
      "text/plain": [
       "(None, None)"
      ]
     },
     "execution_count": 18,
     "metadata": {},
     "output_type": "execute_result"
    }
   ],
   "source": [
    "print(X_test.shape), print(ytest.shape)"
   ]
  },
  {
   "cell_type": "code",
   "execution_count": 19,
   "metadata": {},
   "outputs": [],
   "source": [
    "# reshape input to be [samples, time steps, features] which is required for LSTM\n",
    "X_train =X_train.reshape(X_train.shape[0],X_train.shape[1] , 1)\n",
    "X_test = X_test.reshape(X_test.shape[0],X_test.shape[1] , 1)"
   ]
  },
  {
   "cell_type": "code",
   "execution_count": 20,
   "metadata": {},
   "outputs": [],
   "source": [
    "### Create the Stacked LSTM model\n",
    "# import tensorflow as tf\n",
    "from tensorflow.keras.models import Sequential\n",
    "from tensorflow.keras.layers import Dense\n",
    "from tensorflow.keras.layers import LSTM"
   ]
  },
  {
   "cell_type": "code",
   "execution_count": 21,
   "metadata": {},
   "outputs": [
    {
     "name": "stderr",
     "output_type": "stream",
     "text": [
      "c:\\Users\\Kushwaha Pradeep\\AppData\\Local\\Programs\\Python\\Python312\\Lib\\site-packages\\keras\\src\\layers\\rnn\\rnn.py:204: UserWarning: Do not pass an `input_shape`/`input_dim` argument to a layer. When using Sequential models, prefer using an `Input(shape)` object as the first layer in the model instead.\n",
      "  super().__init__(**kwargs)\n"
     ]
    }
   ],
   "source": [
    "model=Sequential()\n",
    "model.add(LSTM(50,return_sequences=True,input_shape=(100,1)))\n",
    "model.add(LSTM(50,return_sequences=True))\n",
    "model.add(LSTM(50))\n",
    "model.add(Dense(1))\n",
    "model.compile(loss='mean_squared_error',optimizer='adam')"
   ]
  },
  {
   "cell_type": "code",
   "execution_count": 22,
   "metadata": {},
   "outputs": [
    {
     "data": {
      "text/html": [
       "<pre style=\"white-space:pre;overflow-x:auto;line-height:normal;font-family:Menlo,'DejaVu Sans Mono',consolas,'Courier New',monospace\"><span style=\"font-weight: bold\">Model: \"sequential\"</span>\n",
       "</pre>\n"
      ],
      "text/plain": [
       "\u001b[1mModel: \"sequential\"\u001b[0m\n"
      ]
     },
     "metadata": {},
     "output_type": "display_data"
    },
    {
     "data": {
      "text/html": [
       "<pre style=\"white-space:pre;overflow-x:auto;line-height:normal;font-family:Menlo,'DejaVu Sans Mono',consolas,'Courier New',monospace\">┏━━━━━━━━━━━━━━━━━━━━━━━━━━━━━━━━━┳━━━━━━━━━━━━━━━━━━━━━━━━┳━━━━━━━━━━━━━━━┓\n",
       "┃<span style=\"font-weight: bold\"> Layer (type)                    </span>┃<span style=\"font-weight: bold\"> Output Shape           </span>┃<span style=\"font-weight: bold\">       Param # </span>┃\n",
       "┡━━━━━━━━━━━━━━━━━━━━━━━━━━━━━━━━━╇━━━━━━━━━━━━━━━━━━━━━━━━╇━━━━━━━━━━━━━━━┩\n",
       "│ lstm (<span style=\"color: #0087ff; text-decoration-color: #0087ff\">LSTM</span>)                     │ (<span style=\"color: #00d7ff; text-decoration-color: #00d7ff\">None</span>, <span style=\"color: #00af00; text-decoration-color: #00af00\">100</span>, <span style=\"color: #00af00; text-decoration-color: #00af00\">50</span>)        │        <span style=\"color: #00af00; text-decoration-color: #00af00\">10,400</span> │\n",
       "├─────────────────────────────────┼────────────────────────┼───────────────┤\n",
       "│ lstm_1 (<span style=\"color: #0087ff; text-decoration-color: #0087ff\">LSTM</span>)                   │ (<span style=\"color: #00d7ff; text-decoration-color: #00d7ff\">None</span>, <span style=\"color: #00af00; text-decoration-color: #00af00\">100</span>, <span style=\"color: #00af00; text-decoration-color: #00af00\">50</span>)        │        <span style=\"color: #00af00; text-decoration-color: #00af00\">20,200</span> │\n",
       "├─────────────────────────────────┼────────────────────────┼───────────────┤\n",
       "│ lstm_2 (<span style=\"color: #0087ff; text-decoration-color: #0087ff\">LSTM</span>)                   │ (<span style=\"color: #00d7ff; text-decoration-color: #00d7ff\">None</span>, <span style=\"color: #00af00; text-decoration-color: #00af00\">50</span>)             │        <span style=\"color: #00af00; text-decoration-color: #00af00\">20,200</span> │\n",
       "├─────────────────────────────────┼────────────────────────┼───────────────┤\n",
       "│ dense (<span style=\"color: #0087ff; text-decoration-color: #0087ff\">Dense</span>)                   │ (<span style=\"color: #00d7ff; text-decoration-color: #00d7ff\">None</span>, <span style=\"color: #00af00; text-decoration-color: #00af00\">1</span>)              │            <span style=\"color: #00af00; text-decoration-color: #00af00\">51</span> │\n",
       "└─────────────────────────────────┴────────────────────────┴───────────────┘\n",
       "</pre>\n"
      ],
      "text/plain": [
       "┏━━━━━━━━━━━━━━━━━━━━━━━━━━━━━━━━━┳━━━━━━━━━━━━━━━━━━━━━━━━┳━━━━━━━━━━━━━━━┓\n",
       "┃\u001b[1m \u001b[0m\u001b[1mLayer (type)                   \u001b[0m\u001b[1m \u001b[0m┃\u001b[1m \u001b[0m\u001b[1mOutput Shape          \u001b[0m\u001b[1m \u001b[0m┃\u001b[1m \u001b[0m\u001b[1m      Param #\u001b[0m\u001b[1m \u001b[0m┃\n",
       "┡━━━━━━━━━━━━━━━━━━━━━━━━━━━━━━━━━╇━━━━━━━━━━━━━━━━━━━━━━━━╇━━━━━━━━━━━━━━━┩\n",
       "│ lstm (\u001b[38;5;33mLSTM\u001b[0m)                     │ (\u001b[38;5;45mNone\u001b[0m, \u001b[38;5;34m100\u001b[0m, \u001b[38;5;34m50\u001b[0m)        │        \u001b[38;5;34m10,400\u001b[0m │\n",
       "├─────────────────────────────────┼────────────────────────┼───────────────┤\n",
       "│ lstm_1 (\u001b[38;5;33mLSTM\u001b[0m)                   │ (\u001b[38;5;45mNone\u001b[0m, \u001b[38;5;34m100\u001b[0m, \u001b[38;5;34m50\u001b[0m)        │        \u001b[38;5;34m20,200\u001b[0m │\n",
       "├─────────────────────────────────┼────────────────────────┼───────────────┤\n",
       "│ lstm_2 (\u001b[38;5;33mLSTM\u001b[0m)                   │ (\u001b[38;5;45mNone\u001b[0m, \u001b[38;5;34m50\u001b[0m)             │        \u001b[38;5;34m20,200\u001b[0m │\n",
       "├─────────────────────────────────┼────────────────────────┼───────────────┤\n",
       "│ dense (\u001b[38;5;33mDense\u001b[0m)                   │ (\u001b[38;5;45mNone\u001b[0m, \u001b[38;5;34m1\u001b[0m)              │            \u001b[38;5;34m51\u001b[0m │\n",
       "└─────────────────────────────────┴────────────────────────┴───────────────┘\n"
      ]
     },
     "metadata": {},
     "output_type": "display_data"
    },
    {
     "data": {
      "text/html": [
       "<pre style=\"white-space:pre;overflow-x:auto;line-height:normal;font-family:Menlo,'DejaVu Sans Mono',consolas,'Courier New',monospace\"><span style=\"font-weight: bold\"> Total params: </span><span style=\"color: #00af00; text-decoration-color: #00af00\">50,851</span> (198.64 KB)\n",
       "</pre>\n"
      ],
      "text/plain": [
       "\u001b[1m Total params: \u001b[0m\u001b[38;5;34m50,851\u001b[0m (198.64 KB)\n"
      ]
     },
     "metadata": {},
     "output_type": "display_data"
    },
    {
     "data": {
      "text/html": [
       "<pre style=\"white-space:pre;overflow-x:auto;line-height:normal;font-family:Menlo,'DejaVu Sans Mono',consolas,'Courier New',monospace\"><span style=\"font-weight: bold\"> Trainable params: </span><span style=\"color: #00af00; text-decoration-color: #00af00\">50,851</span> (198.64 KB)\n",
       "</pre>\n"
      ],
      "text/plain": [
       "\u001b[1m Trainable params: \u001b[0m\u001b[38;5;34m50,851\u001b[0m (198.64 KB)\n"
      ]
     },
     "metadata": {},
     "output_type": "display_data"
    },
    {
     "data": {
      "text/html": [
       "<pre style=\"white-space:pre;overflow-x:auto;line-height:normal;font-family:Menlo,'DejaVu Sans Mono',consolas,'Courier New',monospace\"><span style=\"font-weight: bold\"> Non-trainable params: </span><span style=\"color: #00af00; text-decoration-color: #00af00\">0</span> (0.00 B)\n",
       "</pre>\n"
      ],
      "text/plain": [
       "\u001b[1m Non-trainable params: \u001b[0m\u001b[38;5;34m0\u001b[0m (0.00 B)\n"
      ]
     },
     "metadata": {},
     "output_type": "display_data"
    }
   ],
   "source": [
    "model.summary()"
   ]
  },
  {
   "cell_type": "code",
   "execution_count": 23,
   "metadata": {},
   "outputs": [
    {
     "name": "stdout",
     "output_type": "stream",
     "text": [
      "Epoch 1/100\n",
      "\u001b[1m24/24\u001b[0m \u001b[32m━━━━━━━━━━━━━━━━━━━━\u001b[0m\u001b[37m\u001b[0m \u001b[1m15s\u001b[0m 218ms/step - loss: 0.0135 - val_loss: 0.0014\n",
      "Epoch 2/100\n",
      "\u001b[1m24/24\u001b[0m \u001b[32m━━━━━━━━━━━━━━━━━━━━\u001b[0m\u001b[37m\u001b[0m \u001b[1m9s\u001b[0m 177ms/step - loss: 5.5535e-04 - val_loss: 0.0021\n",
      "Epoch 3/100\n",
      "\u001b[1m24/24\u001b[0m \u001b[32m━━━━━━━━━━━━━━━━━━━━\u001b[0m\u001b[37m\u001b[0m \u001b[1m4s\u001b[0m 172ms/step - loss: 2.5761e-04 - val_loss: 0.0015\n",
      "Epoch 4/100\n",
      "\u001b[1m24/24\u001b[0m \u001b[32m━━━━━━━━━━━━━━━━━━━━\u001b[0m\u001b[37m\u001b[0m \u001b[1m5s\u001b[0m 170ms/step - loss: 2.3251e-04 - val_loss: 0.0017\n",
      "Epoch 5/100\n",
      "\u001b[1m24/24\u001b[0m \u001b[32m━━━━━━━━━━━━━━━━━━━━\u001b[0m\u001b[37m\u001b[0m \u001b[1m5s\u001b[0m 176ms/step - loss: 2.4813e-04 - val_loss: 0.0017\n",
      "Epoch 6/100\n",
      "\u001b[1m24/24\u001b[0m \u001b[32m━━━━━━━━━━━━━━━━━━━━\u001b[0m\u001b[37m\u001b[0m \u001b[1m5s\u001b[0m 171ms/step - loss: 2.5856e-04 - val_loss: 0.0024\n",
      "Epoch 7/100\n",
      "\u001b[1m24/24\u001b[0m \u001b[32m━━━━━━━━━━━━━━━━━━━━\u001b[0m\u001b[37m\u001b[0m \u001b[1m4s\u001b[0m 180ms/step - loss: 2.0346e-04 - val_loss: 0.0031\n",
      "Epoch 8/100\n",
      "\u001b[1m24/24\u001b[0m \u001b[32m━━━━━━━━━━━━━━━━━━━━\u001b[0m\u001b[37m\u001b[0m \u001b[1m4s\u001b[0m 179ms/step - loss: 2.1185e-04 - val_loss: 0.0031\n",
      "Epoch 9/100\n",
      "\u001b[1m24/24\u001b[0m \u001b[32m━━━━━━━━━━━━━━━━━━━━\u001b[0m\u001b[37m\u001b[0m \u001b[1m4s\u001b[0m 175ms/step - loss: 1.9561e-04 - val_loss: 0.0021\n",
      "Epoch 10/100\n",
      "\u001b[1m24/24\u001b[0m \u001b[32m━━━━━━━━━━━━━━━━━━━━\u001b[0m\u001b[37m\u001b[0m \u001b[1m4s\u001b[0m 177ms/step - loss: 1.8802e-04 - val_loss: 0.0018\n",
      "Epoch 11/100\n",
      "\u001b[1m24/24\u001b[0m \u001b[32m━━━━━━━━━━━━━━━━━━━━\u001b[0m\u001b[37m\u001b[0m \u001b[1m4s\u001b[0m 176ms/step - loss: 1.8703e-04 - val_loss: 0.0021\n",
      "Epoch 12/100\n",
      "\u001b[1m24/24\u001b[0m \u001b[32m━━━━━━━━━━━━━━━━━━━━\u001b[0m\u001b[37m\u001b[0m \u001b[1m4s\u001b[0m 180ms/step - loss: 1.6164e-04 - val_loss: 0.0021\n",
      "Epoch 13/100\n",
      "\u001b[1m24/24\u001b[0m \u001b[32m━━━━━━━━━━━━━━━━━━━━\u001b[0m\u001b[37m\u001b[0m \u001b[1m4s\u001b[0m 168ms/step - loss: 1.6963e-04 - val_loss: 0.0019\n",
      "Epoch 14/100\n",
      "\u001b[1m24/24\u001b[0m \u001b[32m━━━━━━━━━━━━━━━━━━━━\u001b[0m\u001b[37m\u001b[0m \u001b[1m4s\u001b[0m 176ms/step - loss: 1.6706e-04 - val_loss: 0.0038\n",
      "Epoch 15/100\n",
      "\u001b[1m24/24\u001b[0m \u001b[32m━━━━━━━━━━━━━━━━━━━━\u001b[0m\u001b[37m\u001b[0m \u001b[1m5s\u001b[0m 177ms/step - loss: 2.4555e-04 - val_loss: 0.0040\n",
      "Epoch 16/100\n",
      "\u001b[1m24/24\u001b[0m \u001b[32m━━━━━━━━━━━━━━━━━━━━\u001b[0m\u001b[37m\u001b[0m \u001b[1m5s\u001b[0m 174ms/step - loss: 1.9965e-04 - val_loss: 0.0024\n",
      "Epoch 17/100\n",
      "\u001b[1m24/24\u001b[0m \u001b[32m━━━━━━━━━━━━━━━━━━━━\u001b[0m\u001b[37m\u001b[0m \u001b[1m4s\u001b[0m 174ms/step - loss: 1.5841e-04 - val_loss: 0.0021\n",
      "Epoch 18/100\n",
      "\u001b[1m24/24\u001b[0m \u001b[32m━━━━━━━━━━━━━━━━━━━━\u001b[0m\u001b[37m\u001b[0m \u001b[1m4s\u001b[0m 178ms/step - loss: 1.7770e-04 - val_loss: 0.0017\n",
      "Epoch 19/100\n",
      "\u001b[1m24/24\u001b[0m \u001b[32m━━━━━━━━━━━━━━━━━━━━\u001b[0m\u001b[37m\u001b[0m \u001b[1m4s\u001b[0m 173ms/step - loss: 1.6872e-04 - val_loss: 0.0020\n",
      "Epoch 20/100\n",
      "\u001b[1m24/24\u001b[0m \u001b[32m━━━━━━━━━━━━━━━━━━━━\u001b[0m\u001b[37m\u001b[0m \u001b[1m4s\u001b[0m 176ms/step - loss: 1.4769e-04 - val_loss: 0.0012\n",
      "Epoch 21/100\n",
      "\u001b[1m24/24\u001b[0m \u001b[32m━━━━━━━━━━━━━━━━━━━━\u001b[0m\u001b[37m\u001b[0m \u001b[1m4s\u001b[0m 186ms/step - loss: 1.8004e-04 - val_loss: 0.0028\n",
      "Epoch 22/100\n",
      "\u001b[1m24/24\u001b[0m \u001b[32m━━━━━━━━━━━━━━━━━━━━\u001b[0m\u001b[37m\u001b[0m \u001b[1m5s\u001b[0m 217ms/step - loss: 1.6710e-04 - val_loss: 0.0019\n",
      "Epoch 23/100\n",
      "\u001b[1m24/24\u001b[0m \u001b[32m━━━━━━━━━━━━━━━━━━━━\u001b[0m\u001b[37m\u001b[0m \u001b[1m4s\u001b[0m 174ms/step - loss: 1.6853e-04 - val_loss: 0.0017\n",
      "Epoch 24/100\n",
      "\u001b[1m24/24\u001b[0m \u001b[32m━━━━━━━━━━━━━━━━━━━━\u001b[0m\u001b[37m\u001b[0m \u001b[1m5s\u001b[0m 172ms/step - loss: 1.4484e-04 - val_loss: 0.0012\n",
      "Epoch 25/100\n",
      "\u001b[1m24/24\u001b[0m \u001b[32m━━━━━━━━━━━━━━━━━━━━\u001b[0m\u001b[37m\u001b[0m \u001b[1m4s\u001b[0m 172ms/step - loss: 1.4229e-04 - val_loss: 0.0019\n",
      "Epoch 26/100\n",
      "\u001b[1m24/24\u001b[0m \u001b[32m━━━━━━━━━━━━━━━━━━━━\u001b[0m\u001b[37m\u001b[0m \u001b[1m4s\u001b[0m 170ms/step - loss: 1.2511e-04 - val_loss: 9.6485e-04\n",
      "Epoch 27/100\n",
      "\u001b[1m24/24\u001b[0m \u001b[32m━━━━━━━━━━━━━━━━━━━━\u001b[0m\u001b[37m\u001b[0m \u001b[1m5s\u001b[0m 175ms/step - loss: 2.0284e-04 - val_loss: 0.0016\n",
      "Epoch 28/100\n",
      "\u001b[1m24/24\u001b[0m \u001b[32m━━━━━━━━━━━━━━━━━━━━\u001b[0m\u001b[37m\u001b[0m \u001b[1m5s\u001b[0m 164ms/step - loss: 1.4099e-04 - val_loss: 0.0028\n",
      "Epoch 29/100\n",
      "\u001b[1m24/24\u001b[0m \u001b[32m━━━━━━━━━━━━━━━━━━━━\u001b[0m\u001b[37m\u001b[0m \u001b[1m4s\u001b[0m 171ms/step - loss: 1.3936e-04 - val_loss: 0.0030\n",
      "Epoch 30/100\n",
      "\u001b[1m24/24\u001b[0m \u001b[32m━━━━━━━━━━━━━━━━━━━━\u001b[0m\u001b[37m\u001b[0m \u001b[1m4s\u001b[0m 168ms/step - loss: 1.3655e-04 - val_loss: 0.0041\n",
      "Epoch 31/100\n",
      "\u001b[1m24/24\u001b[0m \u001b[32m━━━━━━━━━━━━━━━━━━━━\u001b[0m\u001b[37m\u001b[0m \u001b[1m5s\u001b[0m 169ms/step - loss: 1.2763e-04 - val_loss: 0.0053\n",
      "Epoch 32/100\n",
      "\u001b[1m24/24\u001b[0m \u001b[32m━━━━━━━━━━━━━━━━━━━━\u001b[0m\u001b[37m\u001b[0m \u001b[1m4s\u001b[0m 168ms/step - loss: 1.4006e-04 - val_loss: 0.0025\n",
      "Epoch 33/100\n",
      "\u001b[1m24/24\u001b[0m \u001b[32m━━━━━━━━━━━━━━━━━━━━\u001b[0m\u001b[37m\u001b[0m \u001b[1m4s\u001b[0m 171ms/step - loss: 1.4077e-04 - val_loss: 0.0028\n",
      "Epoch 34/100\n",
      "\u001b[1m24/24\u001b[0m \u001b[32m━━━━━━━━━━━━━━━━━━━━\u001b[0m\u001b[37m\u001b[0m \u001b[1m4s\u001b[0m 162ms/step - loss: 1.2907e-04 - val_loss: 0.0017\n",
      "Epoch 35/100\n",
      "\u001b[1m24/24\u001b[0m \u001b[32m━━━━━━━━━━━━━━━━━━━━\u001b[0m\u001b[37m\u001b[0m \u001b[1m4s\u001b[0m 170ms/step - loss: 1.0945e-04 - val_loss: 0.0014\n",
      "Epoch 36/100\n",
      "\u001b[1m24/24\u001b[0m \u001b[32m━━━━━━━━━━━━━━━━━━━━\u001b[0m\u001b[37m\u001b[0m \u001b[1m4s\u001b[0m 165ms/step - loss: 1.3482e-04 - val_loss: 0.0018\n",
      "Epoch 37/100\n",
      "\u001b[1m24/24\u001b[0m \u001b[32m━━━━━━━━━━━━━━━━━━━━\u001b[0m\u001b[37m\u001b[0m \u001b[1m5s\u001b[0m 165ms/step - loss: 1.0400e-04 - val_loss: 0.0027\n",
      "Epoch 38/100\n",
      "\u001b[1m24/24\u001b[0m \u001b[32m━━━━━━━━━━━━━━━━━━━━\u001b[0m\u001b[37m\u001b[0m \u001b[1m5s\u001b[0m 163ms/step - loss: 1.1726e-04 - val_loss: 0.0031\n",
      "Epoch 39/100\n",
      "\u001b[1m24/24\u001b[0m \u001b[32m━━━━━━━━━━━━━━━━━━━━\u001b[0m\u001b[37m\u001b[0m \u001b[1m4s\u001b[0m 165ms/step - loss: 1.2284e-04 - val_loss: 0.0014\n",
      "Epoch 40/100\n",
      "\u001b[1m24/24\u001b[0m \u001b[32m━━━━━━━━━━━━━━━━━━━━\u001b[0m\u001b[37m\u001b[0m \u001b[1m4s\u001b[0m 163ms/step - loss: 1.1315e-04 - val_loss: 0.0010\n",
      "Epoch 41/100\n",
      "\u001b[1m24/24\u001b[0m \u001b[32m━━━━━━━━━━━━━━━━━━━━\u001b[0m\u001b[37m\u001b[0m \u001b[1m4s\u001b[0m 169ms/step - loss: 1.2533e-04 - val_loss: 9.1559e-04\n",
      "Epoch 42/100\n",
      "\u001b[1m24/24\u001b[0m \u001b[32m━━━━━━━━━━━━━━━━━━━━\u001b[0m\u001b[37m\u001b[0m \u001b[1m4s\u001b[0m 164ms/step - loss: 9.2882e-05 - val_loss: 0.0021\n",
      "Epoch 43/100\n",
      "\u001b[1m24/24\u001b[0m \u001b[32m━━━━━━━━━━━━━━━━━━━━\u001b[0m\u001b[37m\u001b[0m \u001b[1m4s\u001b[0m 168ms/step - loss: 1.0945e-04 - val_loss: 0.0015\n",
      "Epoch 44/100\n",
      "\u001b[1m24/24\u001b[0m \u001b[32m━━━━━━━━━━━━━━━━━━━━\u001b[0m\u001b[37m\u001b[0m \u001b[1m4s\u001b[0m 164ms/step - loss: 8.9371e-05 - val_loss: 0.0017\n",
      "Epoch 45/100\n",
      "\u001b[1m24/24\u001b[0m \u001b[32m━━━━━━━━━━━━━━━━━━━━\u001b[0m\u001b[37m\u001b[0m \u001b[1m5s\u001b[0m 171ms/step - loss: 7.8867e-05 - val_loss: 0.0021\n",
      "Epoch 46/100\n",
      "\u001b[1m24/24\u001b[0m \u001b[32m━━━━━━━━━━━━━━━━━━━━\u001b[0m\u001b[37m\u001b[0m \u001b[1m5s\u001b[0m 168ms/step - loss: 1.0003e-04 - val_loss: 0.0010\n",
      "Epoch 47/100\n",
      "\u001b[1m24/24\u001b[0m \u001b[32m━━━━━━━━━━━━━━━━━━━━\u001b[0m\u001b[37m\u001b[0m \u001b[1m4s\u001b[0m 169ms/step - loss: 1.4029e-04 - val_loss: 0.0011\n",
      "Epoch 48/100\n",
      "\u001b[1m24/24\u001b[0m \u001b[32m━━━━━━━━━━━━━━━━━━━━\u001b[0m\u001b[37m\u001b[0m \u001b[1m4s\u001b[0m 165ms/step - loss: 8.6800e-05 - val_loss: 0.0015\n",
      "Epoch 49/100\n",
      "\u001b[1m24/24\u001b[0m \u001b[32m━━━━━━━━━━━━━━━━━━━━\u001b[0m\u001b[37m\u001b[0m \u001b[1m5s\u001b[0m 171ms/step - loss: 1.0005e-04 - val_loss: 0.0031\n",
      "Epoch 50/100\n",
      "\u001b[1m24/24\u001b[0m \u001b[32m━━━━━━━━━━━━━━━━━━━━\u001b[0m\u001b[37m\u001b[0m \u001b[1m5s\u001b[0m 162ms/step - loss: 1.0348e-04 - val_loss: 0.0024\n",
      "Epoch 51/100\n",
      "\u001b[1m24/24\u001b[0m \u001b[32m━━━━━━━━━━━━━━━━━━━━\u001b[0m\u001b[37m\u001b[0m \u001b[1m4s\u001b[0m 171ms/step - loss: 8.5820e-05 - val_loss: 0.0018\n",
      "Epoch 52/100\n",
      "\u001b[1m24/24\u001b[0m \u001b[32m━━━━━━━━━━━━━━━━━━━━\u001b[0m\u001b[37m\u001b[0m \u001b[1m4s\u001b[0m 161ms/step - loss: 9.2720e-05 - val_loss: 0.0028\n",
      "Epoch 53/100\n",
      "\u001b[1m24/24\u001b[0m \u001b[32m━━━━━━━━━━━━━━━━━━━━\u001b[0m\u001b[37m\u001b[0m \u001b[1m5s\u001b[0m 162ms/step - loss: 1.0367e-04 - val_loss: 0.0024\n",
      "Epoch 54/100\n",
      "\u001b[1m24/24\u001b[0m \u001b[32m━━━━━━━━━━━━━━━━━━━━\u001b[0m\u001b[37m\u001b[0m \u001b[1m4s\u001b[0m 167ms/step - loss: 7.8748e-05 - val_loss: 0.0021\n",
      "Epoch 55/100\n",
      "\u001b[1m24/24\u001b[0m \u001b[32m━━━━━━━━━━━━━━━━━━━━\u001b[0m\u001b[37m\u001b[0m \u001b[1m5s\u001b[0m 161ms/step - loss: 1.2202e-04 - val_loss: 0.0020\n",
      "Epoch 56/100\n",
      "\u001b[1m24/24\u001b[0m \u001b[32m━━━━━━━━━━━━━━━━━━━━\u001b[0m\u001b[37m\u001b[0m \u001b[1m5s\u001b[0m 227ms/step - loss: 1.1184e-04 - val_loss: 0.0026\n",
      "Epoch 57/100\n",
      "\u001b[1m24/24\u001b[0m \u001b[32m━━━━━━━━━━━━━━━━━━━━\u001b[0m\u001b[37m\u001b[0m \u001b[1m11s\u001b[0m 270ms/step - loss: 9.6315e-05 - val_loss: 0.0030\n",
      "Epoch 58/100\n",
      "\u001b[1m24/24\u001b[0m \u001b[32m━━━━━━━━━━━━━━━━━━━━\u001b[0m\u001b[37m\u001b[0m \u001b[1m10s\u001b[0m 260ms/step - loss: 1.0401e-04 - val_loss: 0.0022\n",
      "Epoch 59/100\n",
      "\u001b[1m24/24\u001b[0m \u001b[32m━━━━━━━━━━━━━━━━━━━━\u001b[0m\u001b[37m\u001b[0m \u001b[1m6s\u001b[0m 240ms/step - loss: 8.9985e-05 - val_loss: 0.0031\n",
      "Epoch 60/100\n",
      "\u001b[1m24/24\u001b[0m \u001b[32m━━━━━━━━━━━━━━━━━━━━\u001b[0m\u001b[37m\u001b[0m \u001b[1m10s\u001b[0m 228ms/step - loss: 9.1525e-05 - val_loss: 0.0016\n",
      "Epoch 61/100\n",
      "\u001b[1m24/24\u001b[0m \u001b[32m━━━━━━━━━━━━━━━━━━━━\u001b[0m\u001b[37m\u001b[0m \u001b[1m6s\u001b[0m 234ms/step - loss: 8.5618e-05 - val_loss: 0.0013\n",
      "Epoch 62/100\n",
      "\u001b[1m24/24\u001b[0m \u001b[32m━━━━━━━━━━━━━━━━━━━━\u001b[0m\u001b[37m\u001b[0m \u001b[1m5s\u001b[0m 219ms/step - loss: 9.1844e-05 - val_loss: 8.5385e-04\n",
      "Epoch 63/100\n",
      "\u001b[1m24/24\u001b[0m \u001b[32m━━━━━━━━━━━━━━━━━━━━\u001b[0m\u001b[37m\u001b[0m \u001b[1m6s\u001b[0m 231ms/step - loss: 1.0859e-04 - val_loss: 0.0018\n",
      "Epoch 64/100\n",
      "\u001b[1m24/24\u001b[0m \u001b[32m━━━━━━━━━━━━━━━━━━━━\u001b[0m\u001b[37m\u001b[0m \u001b[1m5s\u001b[0m 205ms/step - loss: 8.0806e-05 - val_loss: 0.0013\n",
      "Epoch 65/100\n",
      "\u001b[1m24/24\u001b[0m \u001b[32m━━━━━━━━━━━━━━━━━━━━\u001b[0m\u001b[37m\u001b[0m \u001b[1m5s\u001b[0m 213ms/step - loss: 8.0580e-05 - val_loss: 0.0016\n",
      "Epoch 66/100\n",
      "\u001b[1m24/24\u001b[0m \u001b[32m━━━━━━━━━━━━━━━━━━━━\u001b[0m\u001b[37m\u001b[0m \u001b[1m5s\u001b[0m 201ms/step - loss: 7.7539e-05 - val_loss: 0.0032\n",
      "Epoch 67/100\n",
      "\u001b[1m24/24\u001b[0m \u001b[32m━━━━━━━━━━━━━━━━━━━━\u001b[0m\u001b[37m\u001b[0m \u001b[1m5s\u001b[0m 210ms/step - loss: 9.6840e-05 - val_loss: 0.0020\n",
      "Epoch 68/100\n",
      "\u001b[1m24/24\u001b[0m \u001b[32m━━━━━━━━━━━━━━━━━━━━\u001b[0m\u001b[37m\u001b[0m \u001b[1m5s\u001b[0m 208ms/step - loss: 9.1219e-05 - val_loss: 0.0023\n",
      "Epoch 69/100\n",
      "\u001b[1m24/24\u001b[0m \u001b[32m━━━━━━━━━━━━━━━━━━━━\u001b[0m\u001b[37m\u001b[0m \u001b[1m5s\u001b[0m 211ms/step - loss: 7.5764e-05 - val_loss: 0.0021\n",
      "Epoch 70/100\n",
      "\u001b[1m24/24\u001b[0m \u001b[32m━━━━━━━━━━━━━━━━━━━━\u001b[0m\u001b[37m\u001b[0m \u001b[1m5s\u001b[0m 204ms/step - loss: 7.2053e-05 - val_loss: 0.0022\n",
      "Epoch 71/100\n",
      "\u001b[1m24/24\u001b[0m \u001b[32m━━━━━━━━━━━━━━━━━━━━\u001b[0m\u001b[37m\u001b[0m \u001b[1m5s\u001b[0m 214ms/step - loss: 7.2795e-05 - val_loss: 0.0022\n",
      "Epoch 72/100\n",
      "\u001b[1m24/24\u001b[0m \u001b[32m━━━━━━━━━━━━━━━━━━━━\u001b[0m\u001b[37m\u001b[0m \u001b[1m5s\u001b[0m 208ms/step - loss: 8.1911e-05 - val_loss: 0.0019\n",
      "Epoch 73/100\n",
      "\u001b[1m24/24\u001b[0m \u001b[32m━━━━━━━━━━━━━━━━━━━━\u001b[0m\u001b[37m\u001b[0m \u001b[1m5s\u001b[0m 210ms/step - loss: 7.0948e-05 - val_loss: 0.0017\n",
      "Epoch 74/100\n",
      "\u001b[1m24/24\u001b[0m \u001b[32m━━━━━━━━━━━━━━━━━━━━\u001b[0m\u001b[37m\u001b[0m \u001b[1m5s\u001b[0m 214ms/step - loss: 8.9911e-05 - val_loss: 0.0024\n",
      "Epoch 75/100\n",
      "\u001b[1m24/24\u001b[0m \u001b[32m━━━━━━━━━━━━━━━━━━━━\u001b[0m\u001b[37m\u001b[0m \u001b[1m5s\u001b[0m 202ms/step - loss: 6.9977e-05 - val_loss: 0.0020\n",
      "Epoch 76/100\n",
      "\u001b[1m24/24\u001b[0m \u001b[32m━━━━━━━━━━━━━━━━━━━━\u001b[0m\u001b[37m\u001b[0m \u001b[1m5s\u001b[0m 206ms/step - loss: 9.3737e-05 - val_loss: 0.0015\n",
      "Epoch 77/100\n",
      "\u001b[1m24/24\u001b[0m \u001b[32m━━━━━━━━━━━━━━━━━━━━\u001b[0m\u001b[37m\u001b[0m \u001b[1m5s\u001b[0m 204ms/step - loss: 8.7689e-05 - val_loss: 0.0024\n",
      "Epoch 78/100\n",
      "\u001b[1m24/24\u001b[0m \u001b[32m━━━━━━━━━━━━━━━━━━━━\u001b[0m\u001b[37m\u001b[0m \u001b[1m5s\u001b[0m 209ms/step - loss: 6.6433e-05 - val_loss: 0.0050\n",
      "Epoch 79/100\n",
      "\u001b[1m24/24\u001b[0m \u001b[32m━━━━━━━━━━━━━━━━━━━━\u001b[0m\u001b[37m\u001b[0m \u001b[1m5s\u001b[0m 210ms/step - loss: 7.9710e-05 - val_loss: 0.0036\n",
      "Epoch 80/100\n",
      "\u001b[1m24/24\u001b[0m \u001b[32m━━━━━━━━━━━━━━━━━━━━\u001b[0m\u001b[37m\u001b[0m \u001b[1m5s\u001b[0m 223ms/step - loss: 9.6901e-05 - val_loss: 0.0045\n",
      "Epoch 81/100\n",
      "\u001b[1m24/24\u001b[0m \u001b[32m━━━━━━━━━━━━━━━━━━━━\u001b[0m\u001b[37m\u001b[0m \u001b[1m5s\u001b[0m 212ms/step - loss: 9.1105e-05 - val_loss: 0.0023\n",
      "Epoch 82/100\n",
      "\u001b[1m24/24\u001b[0m \u001b[32m━━━━━━━━━━━━━━━━━━━━\u001b[0m\u001b[37m\u001b[0m \u001b[1m5s\u001b[0m 209ms/step - loss: 6.9410e-05 - val_loss: 0.0023\n",
      "Epoch 83/100\n",
      "\u001b[1m24/24\u001b[0m \u001b[32m━━━━━━━━━━━━━━━━━━━━\u001b[0m\u001b[37m\u001b[0m \u001b[1m5s\u001b[0m 201ms/step - loss: 6.3089e-05 - val_loss: 0.0032\n",
      "Epoch 84/100\n",
      "\u001b[1m24/24\u001b[0m \u001b[32m━━━━━━━━━━━━━━━━━━━━\u001b[0m\u001b[37m\u001b[0m \u001b[1m5s\u001b[0m 208ms/step - loss: 7.8214e-05 - val_loss: 0.0018\n",
      "Epoch 85/100\n",
      "\u001b[1m24/24\u001b[0m \u001b[32m━━━━━━━━━━━━━━━━━━━━\u001b[0m\u001b[37m\u001b[0m \u001b[1m5s\u001b[0m 207ms/step - loss: 7.5536e-05 - val_loss: 0.0024\n",
      "Epoch 86/100\n",
      "\u001b[1m24/24\u001b[0m \u001b[32m━━━━━━━━━━━━━━━━━━━━\u001b[0m\u001b[37m\u001b[0m \u001b[1m5s\u001b[0m 202ms/step - loss: 7.0756e-05 - val_loss: 0.0032\n",
      "Epoch 87/100\n",
      "\u001b[1m24/24\u001b[0m \u001b[32m━━━━━━━━━━━━━━━━━━━━\u001b[0m\u001b[37m\u001b[0m \u001b[1m5s\u001b[0m 212ms/step - loss: 6.3647e-05 - val_loss: 0.0035\n",
      "Epoch 88/100\n",
      "\u001b[1m24/24\u001b[0m \u001b[32m━━━━━━━━━━━━━━━━━━━━\u001b[0m\u001b[37m\u001b[0m \u001b[1m5s\u001b[0m 215ms/step - loss: 6.3726e-05 - val_loss: 0.0033\n",
      "Epoch 89/100\n",
      "\u001b[1m24/24\u001b[0m \u001b[32m━━━━━━━━━━━━━━━━━━━━\u001b[0m\u001b[37m\u001b[0m \u001b[1m5s\u001b[0m 211ms/step - loss: 6.4716e-05 - val_loss: 0.0036\n",
      "Epoch 90/100\n",
      "\u001b[1m24/24\u001b[0m \u001b[32m━━━━━━━━━━━━━━━━━━━━\u001b[0m\u001b[37m\u001b[0m \u001b[1m5s\u001b[0m 221ms/step - loss: 6.2314e-05 - val_loss: 0.0025\n",
      "Epoch 91/100\n",
      "\u001b[1m24/24\u001b[0m \u001b[32m━━━━━━━━━━━━━━━━━━━━\u001b[0m\u001b[37m\u001b[0m \u001b[1m10s\u001b[0m 208ms/step - loss: 6.6416e-05 - val_loss: 0.0044\n",
      "Epoch 92/100\n",
      "\u001b[1m24/24\u001b[0m \u001b[32m━━━━━━━━━━━━━━━━━━━━\u001b[0m\u001b[37m\u001b[0m \u001b[1m5s\u001b[0m 201ms/step - loss: 7.1887e-05 - val_loss: 0.0031\n",
      "Epoch 93/100\n",
      "\u001b[1m24/24\u001b[0m \u001b[32m━━━━━━━━━━━━━━━━━━━━\u001b[0m\u001b[37m\u001b[0m \u001b[1m5s\u001b[0m 210ms/step - loss: 6.5590e-05 - val_loss: 0.0028\n",
      "Epoch 94/100\n",
      "\u001b[1m24/24\u001b[0m \u001b[32m━━━━━━━━━━━━━━━━━━━━\u001b[0m\u001b[37m\u001b[0m \u001b[1m5s\u001b[0m 197ms/step - loss: 5.3756e-05 - val_loss: 0.0029\n",
      "Epoch 95/100\n",
      "\u001b[1m24/24\u001b[0m \u001b[32m━━━━━━━━━━━━━━━━━━━━\u001b[0m\u001b[37m\u001b[0m \u001b[1m5s\u001b[0m 203ms/step - loss: 6.8568e-05 - val_loss: 0.0038\n",
      "Epoch 96/100\n",
      "\u001b[1m24/24\u001b[0m \u001b[32m━━━━━━━━━━━━━━━━━━━━\u001b[0m\u001b[37m\u001b[0m \u001b[1m5s\u001b[0m 204ms/step - loss: 7.0132e-05 - val_loss: 0.0042\n",
      "Epoch 97/100\n",
      "\u001b[1m24/24\u001b[0m \u001b[32m━━━━━━━━━━━━━━━━━━━━\u001b[0m\u001b[37m\u001b[0m \u001b[1m5s\u001b[0m 208ms/step - loss: 5.7724e-05 - val_loss: 0.0026\n",
      "Epoch 98/100\n",
      "\u001b[1m24/24\u001b[0m \u001b[32m━━━━━━━━━━━━━━━━━━━━\u001b[0m\u001b[37m\u001b[0m \u001b[1m5s\u001b[0m 209ms/step - loss: 5.3308e-05 - val_loss: 0.0043\n",
      "Epoch 99/100\n",
      "\u001b[1m24/24\u001b[0m \u001b[32m━━━━━━━━━━━━━━━━━━━━\u001b[0m\u001b[37m\u001b[0m \u001b[1m5s\u001b[0m 214ms/step - loss: 5.8425e-05 - val_loss: 0.0027\n",
      "Epoch 100/100\n",
      "\u001b[1m24/24\u001b[0m \u001b[32m━━━━━━━━━━━━━━━━━━━━\u001b[0m\u001b[37m\u001b[0m \u001b[1m5s\u001b[0m 207ms/step - loss: 6.7922e-05 - val_loss: 0.0020\n"
     ]
    },
    {
     "data": {
      "text/plain": [
       "<keras.src.callbacks.history.History at 0x1f403451520>"
      ]
     },
     "execution_count": 23,
     "metadata": {},
     "output_type": "execute_result"
    }
   ],
   "source": [
    "model.fit(X_train,y_train,validation_data=(X_test,ytest),epochs=100,batch_size=64,verbose=1)"
   ]
  },
  {
   "cell_type": "code",
   "execution_count": 24,
   "metadata": {},
   "outputs": [],
   "source": [
    "import tensorflow as tf"
   ]
  },
  {
   "cell_type": "code",
   "execution_count": 25,
   "metadata": {},
   "outputs": [
    {
     "name": "stdout",
     "output_type": "stream",
     "text": [
      "\u001b[1m48/48\u001b[0m \u001b[32m━━━━━━━━━━━━━━━━━━━━\u001b[0m\u001b[37m\u001b[0m \u001b[1m4s\u001b[0m 71ms/step\n",
      "\u001b[1m25/25\u001b[0m \u001b[32m━━━━━━━━━━━━━━━━━━━━\u001b[0m\u001b[37m\u001b[0m \u001b[1m1s\u001b[0m 54ms/step\n"
     ]
    }
   ],
   "source": [
    "### Lets Do the prediction and check performance metrics\n",
    "train_predict=model.predict(X_train)\n",
    "test_predict=model.predict(X_test)"
   ]
  },
  {
   "cell_type": "code",
   "execution_count": 26,
   "metadata": {},
   "outputs": [],
   "source": [
    "##Transformback to original form\n",
    "train_predict=scaler.inverse_transform(train_predict)\n",
    "test_predict=scaler.inverse_transform(test_predict)"
   ]
  },
  {
   "cell_type": "code",
   "execution_count": 27,
   "metadata": {},
   "outputs": [
    {
     "data": {
      "text/plain": [
       "63.94699812211083"
      ]
     },
     "execution_count": 27,
     "metadata": {},
     "output_type": "execute_result"
    }
   ],
   "source": [
    "### Calculate RMSE performance metrics\n",
    "import math\n",
    "from sklearn.metrics import mean_squared_error\n",
    "math.sqrt(mean_squared_error(y_train,train_predict))"
   ]
  },
  {
   "cell_type": "code",
   "execution_count": 28,
   "metadata": {},
   "outputs": [
    {
     "data": {
      "text/plain": [
       "171.18210875220313"
      ]
     },
     "execution_count": 28,
     "metadata": {},
     "output_type": "execute_result"
    }
   ],
   "source": [
    "### Test Data RMSE\n",
    "math.sqrt(mean_squared_error(ytest,test_predict))"
   ]
  },
  {
   "cell_type": "code",
   "execution_count": 29,
   "metadata": {},
   "outputs": [
    {
     "data": {
      "image/png": "[encoded data removed]",
      "text/plain": [
       "<Figure size 640x480 with 1 Axes>"
      ]
     },
     "metadata": {},
     "output_type": "display_data"
    }
   ],
   "source": [
    "### Plotting \n",
    "# shift train predictions for plotting\n",
    "look_back=100\n",
    "trainPredictPlot = numpy.empty_like(df1)\n",
    "trainPredictPlot[:, :] = np.nan\n",
    "trainPredictPlot[look_back:len(train_predict)+look_back, :] = train_predict\n",
    "# shift test predictions for plotting\n",
    "testPredictPlot = numpy.empty_like(df1)\n",
    "testPredictPlot[:, :] = numpy.nan\n",
    "testPredictPlot[len(train_predict)+(look_back*2)+1:len(df1)-1, :] = test_predict\n",
    "# plot baseline and predictions\n",
    "plt.plot(scaler.inverse_transform(df1))\n",
    "plt.plot(trainPredictPlot)\n",
    "plt.plot(testPredictPlot)\n",
    "plt.show()"
   ]
  },
  {
   "cell_type": "code",
   "execution_count": 30,
   "metadata": {},
   "outputs": [
    {
     "data": {
      "text/plain": [
       "881"
      ]
     },
     "execution_count": 30,
     "metadata": {},
     "output_type": "execute_result"
    }
   ],
   "source": [
    "len(test_data)"
   ]
  },
  {
   "cell_type": "code",
   "execution_count": 31,
   "metadata": {},
   "outputs": [
    {
     "data": {
      "text/plain": [
       "(1, 100)"
      ]
     },
     "execution_count": 31,
     "metadata": {},
     "output_type": "execute_result"
    }
   ],
   "source": [
    "x_input=test_data[781:].reshape(1,-1)\n",
    "x_input.shape"
   ]
  },
  {
   "cell_type": "code",
   "execution_count": 32,
   "metadata": {},
   "outputs": [
    {
     "data": {
      "text/plain": [
       "[0.8405810246444444,\n",
       " 0.8424671589760693,\n",
       " 0.8550413024859121,\n",
       " 0.8606158317588536,\n",
       " 0.8599452261378401,\n",
       " 0.862543838925703,\n",
       " 0.8620827895580384,\n",
       " 0.8542449503077408,\n",
       " 0.8639269870286967,\n",
       " 0.8653520719926571,\n",
       " 0.8689147203768158,\n",
       " 0.8624600292295118,\n",
       " 0.8762915742851907,\n",
       " 0.8729804190153475,\n",
       " 0.8468680963993659,\n",
       " 0.8388207008957193,\n",
       " 0.8452334551820566,\n",
       " 0.8386949543385614,\n",
       " 0.839072129984293,\n",
       " 0.835719037853483,\n",
       " 0.8464070470317014,\n",
       " 0.8468680963993659,\n",
       " 0.8457364414106877,\n",
       " 0.819833739073797,\n",
       " 0.821803619075871,\n",
       " 0.8381500312489637,\n",
       " 0.8724354959257499,\n",
       " 0.8696272628587958,\n",
       " 0.8623762195333206,\n",
       " 0.8661484241708284,\n",
       " 0.8619570430008807,\n",
       " 0.8667771569566172,\n",
       " 0.8679088119452953,\n",
       " 0.8897459436951382,\n",
       " 0.8612865014056089,\n",
       " 0.863675557940123,\n",
       " 0.8590230633767689,\n",
       " 0.8637593676363143,\n",
       " 0.8423414124189114,\n",
       " 0.8594422399092088,\n",
       " 0.8752437289927039,\n",
       " 0.8731480384077299,\n",
       " 0.8669029035137751,\n",
       " 0.8826205829010787,\n",
       " 0.893308592079297,\n",
       " 0.8846323997641194,\n",
       " 0.8861832312852373,\n",
       " 0.8981286420092913,\n",
       " 0.9043319040680219,\n",
       " 0.9017332912801589,\n",
       " 0.8803572088979806,\n",
       " 0.8795609207455511,\n",
       " 0.8830816322687434,\n",
       " 0.8914224577476719,\n",
       " 0.8925541127363502,\n",
       " 0.8775909126919932,\n",
       " 0.8600290358340312,\n",
       " 0.847454892324188,\n",
       " 0.8436826236609385,\n",
       " 0.8497182023015445,\n",
       " 0.8466585401460169,\n",
       " 0.8666094735384928,\n",
       " 0.8654766020607181,\n",
       " 0.8540215004683921,\n",
       " 0.8540215004683921,\n",
       " 0.8577559299181591,\n",
       " 0.8707635277008932,\n",
       " 0.8572524314835924,\n",
       " 0.8699243423013681,\n",
       " 0.8710152769181765,\n",
       " 0.87403639557706,\n",
       " 0.8720223378130515,\n",
       " 0.8776868872791518,\n",
       " 0.8902748603492525,\n",
       " 0.8994640909345446,\n",
       " 0.8989185916132696,\n",
       " 0.9089890084847952,\n",
       " 0.9184719251483375,\n",
       " 0.9313116474357215,\n",
       " 0.9328222067651633,\n",
       " 0.9329480813738047,\n",
       " 0.9321088959742798,\n",
       " 0.9485152362418223,\n",
       " 0.9527951650128641,\n",
       " 0.9474243016250141,\n",
       " 0.9535924135514227,\n",
       " 0.9543057243423061,\n",
       " 0.9665160095607399,\n",
       " 0.9767542379018737,\n",
       " 0.9539700373773476,\n",
       " 0.9612710207815311,\n",
       " 0.9809922298119493,\n",
       " 0.9842650976881158,\n",
       " 0.9965593846799667,\n",
       " 1.0,\n",
       " 0.9856077815222077,\n",
       " 0.9713833745140235,\n",
       " 0.9639145156144897,\n",
       " 0.936346887884355,\n",
       " 0.9342908292336383]"
      ]
     },
     "execution_count": 32,
     "metadata": {},
     "output_type": "execute_result"
    }
   ],
   "source": [
    "temp_input=list(x_input)\n",
    "temp_input=temp_input[0].tolist()\n",
    "temp_input"
   ]
  },
  {
   "cell_type": "code",
   "execution_count": 33,
   "metadata": {},
   "outputs": [],
   "source": [
    "day_new=np.arange(1,101)\n",
    "day_pred=np.arange(101,131)"
   ]
  },
  {
   "cell_type": "code",
   "execution_count": 34,
   "metadata": {},
   "outputs": [],
   "source": [
    "import matplotlib.pyplot as plt"
   ]
  },
  {
   "cell_type": "code",
   "execution_count": 35,
   "metadata": {},
   "outputs": [
    {
     "name": "stdout",
     "output_type": "stream",
     "text": [
      "[0.81288755]\n",
      "101\n",
      "1 day input [0.84246716 0.8550413  0.86061583 0.85994523 0.86254384 0.86208279\n",
      " 0.85424495 0.86392699 0.86535207 0.86891472 0.86246003 0.87629157\n",
      " 0.87298042 0.8468681  0.8388207  0.84523346 0.83869495 0.83907213\n",
      " 0.83571904 0.84640705 0.8468681  0.84573644 0.81983374 0.82180362\n",
      " 0.83815003 0.8724355  0.86962726 0.86237622 0.86614842 0.86195704\n",
      " 0.86677716 0.86790881 0.88974594 0.8612865  0.86367556 0.85902306\n",
      " 0.86375937 0.84234141 0.85944224 0.87524373 0.87314804 0.8669029\n",
      " 0.88262058 0.89330859 0.8846324  0.88618323 0.89812864 0.9043319\n",
      " 0.90173329 0.88035721 0.87956092 0.88308163 0.89142246 0.89255411\n",
      " 0.87759091 0.86002904 0.84745489 0.84368262 0.8497182  0.84665854\n",
      " 0.86660947 0.8654766  0.8540215  0.8540215  0.85775593 0.87076353\n",
      " 0.85725243 0.86992434 0.87101528 0.8740364  0.87202234 0.87768689\n",
      " 0.89027486 0.89946409 0.89891859 0.90898901 0.91847193 0.93131165\n",
      " 0.93282221 0.93294808 0.9321089  0.94851524 0.95279517 0.9474243\n",
      " 0.95359241 0.95430572 0.96651601 0.97675424 0.95397004 0.96127102\n",
      " 0.98099223 0.9842651  0.99655938 1.         0.98560778 0.97138337\n",
      " 0.96391452 0.93634689 0.93429083 0.81288755]\n",
      "1 day output [[0.76464504]]\n",
      "2 day input [0.8550413  0.86061583 0.85994523 0.86254384 0.86208279 0.85424495\n",
      " 0.86392699 0.86535207 0.86891472 0.86246003 0.87629157 0.87298042\n",
      " 0.8468681  0.8388207  0.84523346 0.83869495 0.83907213 0.83571904\n",
      " 0.84640705 0.8468681  0.84573644 0.81983374 0.82180362 0.83815003\n",
      " 0.8724355  0.86962726 0.86237622 0.86614842 0.86195704 0.86677716\n",
      " 0.86790881 0.88974594 0.8612865  0.86367556 0.85902306 0.86375937\n",
      " 0.84234141 0.85944224 0.87524373 0.87314804 0.8669029  0.88262058\n",
      " 0.89330859 0.8846324  0.88618323 0.89812864 0.9043319  0.90173329\n",
      " 0.88035721 0.87956092 0.88308163 0.89142246 0.89255411 0.87759091\n",
      " 0.86002904 0.84745489 0.84368262 0.8497182  0.84665854 0.86660947\n",
      " 0.8654766  0.8540215  0.8540215  0.85775593 0.87076353 0.85725243\n",
      " 0.86992434 0.87101528 0.8740364  0.87202234 0.87768689 0.89027486\n",
      " 0.89946409 0.89891859 0.90898901 0.91847193 0.93131165 0.93282221\n",
      " 0.93294808 0.9321089  0.94851524 0.95279517 0.9474243  0.95359241\n",
      " 0.95430572 0.96651601 0.97675424 0.95397004 0.96127102 0.98099223\n",
      " 0.9842651  0.99655938 1.         0.98560778 0.97138337 0.96391452\n",
      " 0.93634689 0.93429083 0.81288755 0.76464504]\n",
      "2 day output [[0.7089732]]\n",
      "3 day input [0.86061583 0.85994523 0.86254384 0.86208279 0.85424495 0.86392699\n",
      " 0.86535207 0.86891472 0.86246003 0.87629157 0.87298042 0.8468681\n",
      " 0.8388207  0.84523346 0.83869495 0.83907213 0.83571904 0.84640705\n",
      " 0.8468681  0.84573644 0.81983374 0.82180362 0.83815003 0.8724355\n",
      " 0.86962726 0.86237622 0.86614842 0.86195704 0.86677716 0.86790881\n",
      " 0.88974594 0.8612865  0.86367556 0.85902306 0.86375937 0.84234141\n",
      " 0.85944224 0.87524373 0.87314804 0.8669029  0.88262058 0.89330859\n",
      " 0.8846324  0.88618323 0.89812864 0.9043319  0.90173329 0.88035721\n",
      " 0.87956092 0.88308163 0.89142246 0.89255411 0.87759091 0.86002904\n",
      " 0.84745489 0.84368262 0.8497182  0.84665854 0.86660947 0.8654766\n",
      " 0.8540215  0.8540215  0.85775593 0.87076353 0.85725243 0.86992434\n",
      " 0.87101528 0.8740364  0.87202234 0.87768689 0.89027486 0.89946409\n",
      " 0.89891859 0.90898901 0.91847193 0.93131165 0.93282221 0.93294808\n",
      " 0.9321089  0.94851524 0.95279517 0.9474243  0.95359241 0.95430572\n",
      " 0.96651601 0.97675424 0.95397004 0.96127102 0.98099223 0.9842651\n",
      " 0.99655938 1.         0.98560778 0.97138337 0.96391452 0.93634689\n",
      " 0.93429083 0.81288755 0.76464504 0.70897323]\n",
      "3 day output [[0.65870506]]\n",
      "4 day input [0.85994523 0.86254384 0.86208279 0.85424495 0.86392699 0.86535207\n",
      " 0.86891472 0.86246003 0.87629157 0.87298042 0.8468681  0.8388207\n",
      " 0.84523346 0.83869495 0.83907213 0.83571904 0.84640705 0.8468681\n",
      " 0.84573644 0.81983374 0.82180362 0.83815003 0.8724355  0.86962726\n",
      " 0.86237622 0.86614842 0.86195704 0.86677716 0.86790881 0.88974594\n",
      " 0.8612865  0.86367556 0.85902306 0.86375937 0.84234141 0.85944224\n",
      " 0.87524373 0.87314804 0.8669029  0.88262058 0.89330859 0.8846324\n",
      " 0.88618323 0.89812864 0.9043319  0.90173329 0.88035721 0.87956092\n",
      " 0.88308163 0.89142246 0.89255411 0.87759091 0.86002904 0.84745489\n",
      " 0.84368262 0.8497182  0.84665854 0.86660947 0.8654766  0.8540215\n",
      " 0.8540215  0.85775593 0.87076353 0.85725243 0.86992434 0.87101528\n",
      " 0.8740364  0.87202234 0.87768689 0.89027486 0.89946409 0.89891859\n",
      " 0.90898901 0.91847193 0.93131165 0.93282221 0.93294808 0.9321089\n",
      " 0.94851524 0.95279517 0.9474243  0.95359241 0.95430572 0.96651601\n",
      " 0.97675424 0.95397004 0.96127102 0.98099223 0.9842651  0.99655938\n",
      " 1.         0.98560778 0.97138337 0.96391452 0.93634689 0.93429083\n",
      " 0.81288755 0.76464504 0.70897323 0.65870506]\n",
      "4 day output [[0.6168542]]\n",
      "5 day input [0.86254384 0.86208279 0.85424495 0.86392699 0.86535207 0.86891472\n",
      " 0.86246003 0.87629157 0.87298042 0.8468681  0.8388207  0.84523346\n",
      " 0.83869495 0.83907213 0.83571904 0.84640705 0.8468681  0.84573644\n",
      " 0.81983374 0.82180362 0.83815003 0.8724355  0.86962726 0.86237622\n",
      " 0.86614842 0.86195704 0.86677716 0.86790881 0.88974594 0.8612865\n",
      " 0.86367556 0.85902306 0.86375937 0.84234141 0.85944224 0.87524373\n",
      " 0.87314804 0.8669029  0.88262058 0.89330859 0.8846324  0.88618323\n",
      " 0.89812864 0.9043319  0.90173329 0.88035721 0.87956092 0.88308163\n",
      " 0.89142246 0.89255411 0.87759091 0.86002904 0.84745489 0.84368262\n",
      " 0.8497182  0.84665854 0.86660947 0.8654766  0.8540215  0.8540215\n",
      " 0.85775593 0.87076353 0.85725243 0.86992434 0.87101528 0.8740364\n",
      " 0.87202234 0.87768689 0.89027486 0.89946409 0.89891859 0.90898901\n",
      " 0.91847193 0.93131165 0.93282221 0.93294808 0.9321089  0.94851524\n",
      " 0.95279517 0.9474243  0.95359241 0.95430572 0.96651601 0.97675424\n",
      " 0.95397004 0.96127102 0.98099223 0.9842651  0.99655938 1.\n",
      " 0.98560778 0.97138337 0.96391452 0.93634689 0.93429083 0.81288755\n",
      " 0.76464504 0.70897323 0.65870506 0.61685419]\n",
      "5 day output [[0.58347505]]\n",
      "6 day input [0.86208279 0.85424495 0.86392699 0.86535207 0.86891472 0.86246003\n",
      " 0.87629157 0.87298042 0.8468681  0.8388207  0.84523346 0.83869495\n",
      " 0.83907213 0.83571904 0.84640705 0.8468681  0.84573644 0.81983374\n",
      " 0.82180362 0.83815003 0.8724355  0.86962726 0.86237622 0.86614842\n",
      " 0.86195704 0.86677716 0.86790881 0.88974594 0.8612865  0.86367556\n",
      " 0.85902306 0.86375937 0.84234141 0.85944224 0.87524373 0.87314804\n",
      " 0.8669029  0.88262058 0.89330859 0.8846324  0.88618323 0.89812864\n",
      " 0.9043319  0.90173329 0.88035721 0.87956092 0.88308163 0.89142246\n",
      " 0.89255411 0.87759091 0.86002904 0.84745489 0.84368262 0.8497182\n",
      " 0.84665854 0.86660947 0.8654766  0.8540215  0.8540215  0.85775593\n",
      " 0.87076353 0.85725243 0.86992434 0.87101528 0.8740364  0.87202234\n",
      " 0.87768689 0.89027486 0.89946409 0.89891859 0.90898901 0.91847193\n",
      " 0.93131165 0.93282221 0.93294808 0.9321089  0.94851524 0.95279517\n",
      " 0.9474243  0.95359241 0.95430572 0.96651601 0.97675424 0.95397004\n",
      " 0.96127102 0.98099223 0.9842651  0.99655938 1.         0.98560778\n",
      " 0.97138337 0.96391452 0.93634689 0.93429083 0.81288755 0.76464504\n",
      " 0.70897323 0.65870506 0.61685419 0.58347505]\n",
      "6 day output [[0.5577687]]\n",
      "7 day input [0.85424495 0.86392699 0.86535207 0.86891472 0.86246003 0.87629157\n",
      " 0.87298042 0.8468681  0.8388207  0.84523346 0.83869495 0.83907213\n",
      " 0.83571904 0.84640705 0.8468681  0.84573644 0.81983374 0.82180362\n",
      " 0.83815003 0.8724355  0.86962726 0.86237622 0.86614842 0.86195704\n",
      " 0.86677716 0.86790881 0.88974594 0.8612865  0.86367556 0.85902306\n",
      " 0.86375937 0.84234141 0.85944224 0.87524373 0.87314804 0.8669029\n",
      " 0.88262058 0.89330859 0.8846324  0.88618323 0.89812864 0.9043319\n",
      " 0.90173329 0.88035721 0.87956092 0.88308163 0.89142246 0.89255411\n",
      " 0.87759091 0.86002904 0.84745489 0.84368262 0.8497182  0.84665854\n",
      " 0.86660947 0.8654766  0.8540215  0.8540215  0.85775593 0.87076353\n",
      " 0.85725243 0.86992434 0.87101528 0.8740364  0.87202234 0.87768689\n",
      " 0.89027486 0.89946409 0.89891859 0.90898901 0.91847193 0.93131165\n",
      " 0.93282221 0.93294808 0.9321089  0.94851524 0.95279517 0.9474243\n",
      " 0.95359241 0.95430572 0.96651601 0.97675424 0.95397004 0.96127102\n",
      " 0.98099223 0.9842651  0.99655938 1.         0.98560778 0.97138337\n",
      " 0.96391452 0.93634689 0.93429083 0.81288755 0.76464504 0.70897323\n",
      " 0.65870506 0.61685419 0.58347505 0.5577687 ]\n",
      "7 day output [[0.53868735]]\n",
      "8 day input [0.86392699 0.86535207 0.86891472 0.86246003 0.87629157 0.87298042\n",
      " 0.8468681  0.8388207  0.84523346 0.83869495 0.83907213 0.83571904\n",
      " 0.84640705 0.8468681  0.84573644 0.81983374 0.82180362 0.83815003\n",
      " 0.8724355  0.86962726 0.86237622 0.86614842 0.86195704 0.86677716\n",
      " 0.86790881 0.88974594 0.8612865  0.86367556 0.85902306 0.86375937\n",
      " 0.84234141 0.85944224 0.87524373 0.87314804 0.8669029  0.88262058\n",
      " 0.89330859 0.8846324  0.88618323 0.89812864 0.9043319  0.90173329\n",
      " 0.88035721 0.87956092 0.88308163 0.89142246 0.89255411 0.87759091\n",
      " 0.86002904 0.84745489 0.84368262 0.8497182  0.84665854 0.86660947\n",
      " 0.8654766  0.8540215  0.8540215  0.85775593 0.87076353 0.85725243\n",
      " 0.86992434 0.87101528 0.8740364  0.87202234 0.87768689 0.89027486\n",
      " 0.89946409 0.89891859 0.90898901 0.91847193 0.93131165 0.93282221\n",
      " 0.93294808 0.9321089  0.94851524 0.95279517 0.9474243  0.95359241\n",
      " 0.95430572 0.96651601 0.97675424 0.95397004 0.96127102 0.98099223\n",
      " 0.9842651  0.99655938 1.         0.98560778 0.97138337 0.96391452\n",
      " 0.93634689 0.93429083 0.81288755 0.76464504 0.70897323 0.65870506\n",
      " 0.61685419 0.58347505 0.5577687  0.53868735]\n",
      "8 day output [[0.5251746]]\n",
      "9 day input [0.86535207 0.86891472 0.86246003 0.87629157 0.87298042 0.8468681\n",
      " 0.8388207  0.84523346 0.83869495 0.83907213 0.83571904 0.84640705\n",
      " 0.8468681  0.84573644 0.81983374 0.82180362 0.83815003 0.8724355\n",
      " 0.86962726 0.86237622 0.86614842 0.86195704 0.86677716 0.86790881\n",
      " 0.88974594 0.8612865  0.86367556 0.85902306 0.86375937 0.84234141\n",
      " 0.85944224 0.87524373 0.87314804 0.8669029  0.88262058 0.89330859\n",
      " 0.8846324  0.88618323 0.89812864 0.9043319  0.90173329 0.88035721\n",
      " 0.87956092 0.88308163 0.89142246 0.89255411 0.87759091 0.86002904\n",
      " 0.84745489 0.84368262 0.8497182  0.84665854 0.86660947 0.8654766\n",
      " 0.8540215  0.8540215  0.85775593 0.87076353 0.85725243 0.86992434\n",
      " 0.87101528 0.8740364  0.87202234 0.87768689 0.89027486 0.89946409\n",
      " 0.89891859 0.90898901 0.91847193 0.93131165 0.93282221 0.93294808\n",
      " 0.9321089  0.94851524 0.95279517 0.9474243  0.95359241 0.95430572\n",
      " 0.96651601 0.97675424 0.95397004 0.96127102 0.98099223 0.9842651\n",
      " 0.99655938 1.         0.98560778 0.97138337 0.96391452 0.93634689\n",
      " 0.93429083 0.81288755 0.76464504 0.70897323 0.65870506 0.61685419\n",
      " 0.58347505 0.5577687  0.53868735 0.52517462]\n",
      "9 day output [[0.5162677]]\n",
      "10 day input [0.86891472 0.86246003 0.87629157 0.87298042 0.8468681  0.8388207\n",
      " 0.84523346 0.83869495 0.83907213 0.83571904 0.84640705 0.8468681\n",
      " 0.84573644 0.81983374 0.82180362 0.83815003 0.8724355  0.86962726\n",
      " 0.86237622 0.86614842 0.86195704 0.86677716 0.86790881 0.88974594\n",
      " 0.8612865  0.86367556 0.85902306 0.86375937 0.84234141 0.85944224\n",
      " 0.87524373 0.87314804 0.8669029  0.88262058 0.89330859 0.8846324\n",
      " 0.88618323 0.89812864 0.9043319  0.90173329 0.88035721 0.87956092\n",
      " 0.88308163 0.89142246 0.89255411 0.87759091 0.86002904 0.84745489\n",
      " 0.84368262 0.8497182  0.84665854 0.86660947 0.8654766  0.8540215\n",
      " 0.8540215  0.85775593 0.87076353 0.85725243 0.86992434 0.87101528\n",
      " 0.8740364  0.87202234 0.87768689 0.89027486 0.89946409 0.89891859\n",
      " 0.90898901 0.91847193 0.93131165 0.93282221 0.93294808 0.9321089\n",
      " 0.94851524 0.95279517 0.9474243  0.95359241 0.95430572 0.96651601\n",
      " 0.97675424 0.95397004 0.96127102 0.98099223 0.9842651  0.99655938\n",
      " 1.         0.98560778 0.97138337 0.96391452 0.93634689 0.93429083\n",
      " 0.81288755 0.76464504 0.70897323 0.65870506 0.61685419 0.58347505\n",
      " 0.5577687  0.53868735 0.52517462 0.51626772]\n",
      "10 day output [[0.5111281]]\n",
      "11 day input [0.86246003 0.87629157 0.87298042 0.8468681  0.8388207  0.84523346\n",
      " 0.83869495 0.83907213 0.83571904 0.84640705 0.8468681  0.84573644\n",
      " 0.81983374 0.82180362 0.83815003 0.8724355  0.86962726 0.86237622\n",
      " 0.86614842 0.86195704 0.86677716 0.86790881 0.88974594 0.8612865\n",
      " 0.86367556 0.85902306 0.86375937 0.84234141 0.85944224 0.87524373\n",
      " 0.87314804 0.8669029  0.88262058 0.89330859 0.8846324  0.88618323\n",
      " 0.89812864 0.9043319  0.90173329 0.88035721 0.87956092 0.88308163\n",
      " 0.89142246 0.89255411 0.87759091 0.86002904 0.84745489 0.84368262\n",
      " 0.8497182  0.84665854 0.86660947 0.8654766  0.8540215  0.8540215\n",
      " 0.85775593 0.87076353 0.85725243 0.86992434 0.87101528 0.8740364\n",
      " 0.87202234 0.87768689 0.89027486 0.89946409 0.89891859 0.90898901\n",
      " 0.91847193 0.93131165 0.93282221 0.93294808 0.9321089  0.94851524\n",
      " 0.95279517 0.9474243  0.95359241 0.95430572 0.96651601 0.97675424\n",
      " 0.95397004 0.96127102 0.98099223 0.9842651  0.99655938 1.\n",
      " 0.98560778 0.97138337 0.96391452 0.93634689 0.93429083 0.81288755\n",
      " 0.76464504 0.70897323 0.65870506 0.61685419 0.58347505 0.5577687\n",
      " 0.53868735 0.52517462 0.51626772 0.51112813]\n",
      "11 day output [[0.509038]]\n",
      "12 day input [0.87629157 0.87298042 0.8468681  0.8388207  0.84523346 0.83869495\n",
      " 0.83907213 0.83571904 0.84640705 0.8468681  0.84573644 0.81983374\n",
      " 0.82180362 0.83815003 0.8724355  0.86962726 0.86237622 0.86614842\n",
      " 0.86195704 0.86677716 0.86790881 0.88974594 0.8612865  0.86367556\n",
      " 0.85902306 0.86375937 0.84234141 0.85944224 0.87524373 0.87314804\n",
      " 0.8669029  0.88262058 0.89330859 0.8846324  0.88618323 0.89812864\n",
      " 0.9043319  0.90173329 0.88035721 0.87956092 0.88308163 0.89142246\n",
      " 0.89255411 0.87759091 0.86002904 0.84745489 0.84368262 0.8497182\n",
      " 0.84665854 0.86660947 0.8654766  0.8540215  0.8540215  0.85775593\n",
      " 0.87076353 0.85725243 0.86992434 0.87101528 0.8740364  0.87202234\n",
      " 0.87768689 0.89027486 0.89946409 0.89891859 0.90898901 0.91847193\n",
      " 0.93131165 0.93282221 0.93294808 0.9321089  0.94851524 0.95279517\n",
      " 0.9474243  0.95359241 0.95430572 0.96651601 0.97675424 0.95397004\n",
      " 0.96127102 0.98099223 0.9842651  0.99655938 1.         0.98560778\n",
      " 0.97138337 0.96391452 0.93634689 0.93429083 0.81288755 0.76464504\n",
      " 0.70897323 0.65870506 0.61685419 0.58347505 0.5577687  0.53868735\n",
      " 0.52517462 0.51626772 0.51112813 0.50903797]\n",
      "12 day output [[0.50938636]]\n",
      "13 day input [0.87298042 0.8468681  0.8388207  0.84523346 0.83869495 0.83907213\n",
      " 0.83571904 0.84640705 0.8468681  0.84573644 0.81983374 0.82180362\n",
      " 0.83815003 0.8724355  0.86962726 0.86237622 0.86614842 0.86195704\n",
      " 0.86677716 0.86790881 0.88974594 0.8612865  0.86367556 0.85902306\n",
      " 0.86375937 0.84234141 0.85944224 0.87524373 0.87314804 0.8669029\n",
      " 0.88262058 0.89330859 0.8846324  0.88618323 0.89812864 0.9043319\n",
      " 0.90173329 0.88035721 0.87956092 0.88308163 0.89142246 0.89255411\n",
      " 0.87759091 0.86002904 0.84745489 0.84368262 0.8497182  0.84665854\n",
      " 0.86660947 0.8654766  0.8540215  0.8540215  0.85775593 0.87076353\n",
      " 0.85725243 0.86992434 0.87101528 0.8740364  0.87202234 0.87768689\n",
      " 0.89027486 0.89946409 0.89891859 0.90898901 0.91847193 0.93131165\n",
      " 0.93282221 0.93294808 0.9321089  0.94851524 0.95279517 0.9474243\n",
      " 0.95359241 0.95430572 0.96651601 0.97675424 0.95397004 0.96127102\n",
      " 0.98099223 0.9842651  0.99655938 1.         0.98560778 0.97138337\n",
      " 0.96391452 0.93634689 0.93429083 0.81288755 0.76464504 0.70897323\n",
      " 0.65870506 0.61685419 0.58347505 0.5577687  0.53868735 0.52517462\n",
      " 0.51626772 0.51112813 0.50903797 0.50938636]\n",
      "13 day output [[0.5116534]]\n",
      "14 day input [0.8468681  0.8388207  0.84523346 0.83869495 0.83907213 0.83571904\n",
      " 0.84640705 0.8468681  0.84573644 0.81983374 0.82180362 0.83815003\n",
      " 0.8724355  0.86962726 0.86237622 0.86614842 0.86195704 0.86677716\n",
      " 0.86790881 0.88974594 0.8612865  0.86367556 0.85902306 0.86375937\n",
      " 0.84234141 0.85944224 0.87524373 0.87314804 0.8669029  0.88262058\n",
      " 0.89330859 0.8846324  0.88618323 0.89812864 0.9043319  0.90173329\n",
      " 0.88035721 0.87956092 0.88308163 0.89142246 0.89255411 0.87759091\n",
      " 0.86002904 0.84745489 0.84368262 0.8497182  0.84665854 0.86660947\n",
      " 0.8654766  0.8540215  0.8540215  0.85775593 0.87076353 0.85725243\n",
      " 0.86992434 0.87101528 0.8740364  0.87202234 0.87768689 0.89027486\n",
      " 0.89946409 0.89891859 0.90898901 0.91847193 0.93131165 0.93282221\n",
      " 0.93294808 0.9321089  0.94851524 0.95279517 0.9474243  0.95359241\n",
      " 0.95430572 0.96651601 0.97675424 0.95397004 0.96127102 0.98099223\n",
      " 0.9842651  0.99655938 1.         0.98560778 0.97138337 0.96391452\n",
      " 0.93634689 0.93429083 0.81288755 0.76464504 0.70897323 0.65870506\n",
      " 0.61685419 0.58347505 0.5577687  0.53868735 0.52517462 0.51626772\n",
      " 0.51112813 0.50903797 0.50938636 0.51165342]\n",
      "14 day output [[0.5153973]]\n",
      "15 day input [0.8388207  0.84523346 0.83869495 0.83907213 0.83571904 0.84640705\n",
      " 0.8468681  0.84573644 0.81983374 0.82180362 0.83815003 0.8724355\n",
      " 0.86962726 0.86237622 0.86614842 0.86195704 0.86677716 0.86790881\n",
      " 0.88974594 0.8612865  0.86367556 0.85902306 0.86375937 0.84234141\n",
      " 0.85944224 0.87524373 0.87314804 0.8669029  0.88262058 0.89330859\n",
      " 0.8846324  0.88618323 0.89812864 0.9043319  0.90173329 0.88035721\n",
      " 0.87956092 0.88308163 0.89142246 0.89255411 0.87759091 0.86002904\n",
      " 0.84745489 0.84368262 0.8497182  0.84665854 0.86660947 0.8654766\n",
      " 0.8540215  0.8540215  0.85775593 0.87076353 0.85725243 0.86992434\n",
      " 0.87101528 0.8740364  0.87202234 0.87768689 0.89027486 0.89946409\n",
      " 0.89891859 0.90898901 0.91847193 0.93131165 0.93282221 0.93294808\n",
      " 0.9321089  0.94851524 0.95279517 0.9474243  0.95359241 0.95430572\n",
      " 0.96651601 0.97675424 0.95397004 0.96127102 0.98099223 0.9842651\n",
      " 0.99655938 1.         0.98560778 0.97138337 0.96391452 0.93634689\n",
      " 0.93429083 0.81288755 0.76464504 0.70897323 0.65870506 0.61685419\n",
      " 0.58347505 0.5577687  0.53868735 0.52517462 0.51626772 0.51112813\n",
      " 0.50903797 0.50938636 0.51165342 0.51539731]\n",
      "15 day output [[0.5202414]]\n",
      "16 day input [0.84523346 0.83869495 0.83907213 0.83571904 0.84640705 0.8468681\n",
      " 0.84573644 0.81983374 0.82180362 0.83815003 0.8724355  0.86962726\n",
      " 0.86237622 0.86614842 0.86195704 0.86677716 0.86790881 0.88974594\n",
      " 0.8612865  0.86367556 0.85902306 0.86375937 0.84234141 0.85944224\n",
      " 0.87524373 0.87314804 0.8669029  0.88262058 0.89330859 0.8846324\n",
      " 0.88618323 0.89812864 0.9043319  0.90173329 0.88035721 0.87956092\n",
      " 0.88308163 0.89142246 0.89255411 0.87759091 0.86002904 0.84745489\n",
      " 0.84368262 0.8497182  0.84665854 0.86660947 0.8654766  0.8540215\n",
      " 0.8540215  0.85775593 0.87076353 0.85725243 0.86992434 0.87101528\n",
      " 0.8740364  0.87202234 0.87768689 0.89027486 0.89946409 0.89891859\n",
      " 0.90898901 0.91847193 0.93131165 0.93282221 0.93294808 0.9321089\n",
      " 0.94851524 0.95279517 0.9474243  0.95359241 0.95430572 0.96651601\n",
      " 0.97675424 0.95397004 0.96127102 0.98099223 0.9842651  0.99655938\n",
      " 1.         0.98560778 0.97138337 0.96391452 0.93634689 0.93429083\n",
      " 0.81288755 0.76464504 0.70897323 0.65870506 0.61685419 0.58347505\n",
      " 0.5577687  0.53868735 0.52517462 0.51626772 0.51112813 0.50903797\n",
      " 0.50938636 0.51165342 0.51539731 0.52024138]\n",
      "16 day output [[0.5258641]]\n",
      "17 day input [0.83869495 0.83907213 0.83571904 0.84640705 0.8468681  0.84573644\n",
      " 0.81983374 0.82180362 0.83815003 0.8724355  0.86962726 0.86237622\n",
      " 0.86614842 0.86195704 0.86677716 0.86790881 0.88974594 0.8612865\n",
      " 0.86367556 0.85902306 0.86375937 0.84234141 0.85944224 0.87524373\n",
      " 0.87314804 0.8669029  0.88262058 0.89330859 0.8846324  0.88618323\n",
      " 0.89812864 0.9043319  0.90173329 0.88035721 0.87956092 0.88308163\n",
      " 0.89142246 0.89255411 0.87759091 0.86002904 0.84745489 0.84368262\n",
      " 0.8497182  0.84665854 0.86660947 0.8654766  0.8540215  0.8540215\n",
      " 0.85775593 0.87076353 0.85725243 0.86992434 0.87101528 0.8740364\n",
      " 0.87202234 0.87768689 0.89027486 0.89946409 0.89891859 0.90898901\n",
      " 0.91847193 0.93131165 0.93282221 0.93294808 0.9321089  0.94851524\n",
      " 0.95279517 0.9474243  0.95359241 0.95430572 0.96651601 0.97675424\n",
      " 0.95397004 0.96127102 0.98099223 0.9842651  0.99655938 1.\n",
      " 0.98560778 0.97138337 0.96391452 0.93634689 0.93429083 0.81288755\n",
      " 0.76464504 0.70897323 0.65870506 0.61685419 0.58347505 0.5577687\n",
      " 0.53868735 0.52517462 0.51626772 0.51112813 0.50903797 0.50938636\n",
      " 0.51165342 0.51539731 0.52024138 0.52586412]\n",
      "17 day output [[0.53199023]]\n",
      "18 day input [0.83907213 0.83571904 0.84640705 0.8468681  0.84573644 0.81983374\n",
      " 0.82180362 0.83815003 0.8724355  0.86962726 0.86237622 0.86614842\n",
      " 0.86195704 0.86677716 0.86790881 0.88974594 0.8612865  0.86367556\n",
      " 0.85902306 0.86375937 0.84234141 0.85944224 0.87524373 0.87314804\n",
      " 0.8669029  0.88262058 0.89330859 0.8846324  0.88618323 0.89812864\n",
      " 0.9043319  0.90173329 0.88035721 0.87956092 0.88308163 0.89142246\n",
      " 0.89255411 0.87759091 0.86002904 0.84745489 0.84368262 0.8497182\n",
      " 0.84665854 0.86660947 0.8654766  0.8540215  0.8540215  0.85775593\n",
      " 0.87076353 0.85725243 0.86992434 0.87101528 0.8740364  0.87202234\n",
      " 0.87768689 0.89027486 0.89946409 0.89891859 0.90898901 0.91847193\n",
      " 0.93131165 0.93282221 0.93294808 0.9321089  0.94851524 0.95279517\n",
      " 0.9474243  0.95359241 0.95430572 0.96651601 0.97675424 0.95397004\n",
      " 0.96127102 0.98099223 0.9842651  0.99655938 1.         0.98560778\n",
      " 0.97138337 0.96391452 0.93634689 0.93429083 0.81288755 0.76464504\n",
      " 0.70897323 0.65870506 0.61685419 0.58347505 0.5577687  0.53868735\n",
      " 0.52517462 0.51626772 0.51112813 0.50903797 0.50938636 0.51165342\n",
      " 0.51539731 0.52024138 0.52586412 0.53199023]\n",
      "18 day output [[0.53838277]]\n",
      "19 day input [0.83571904 0.84640705 0.8468681  0.84573644 0.81983374 0.82180362\n",
      " 0.83815003 0.8724355  0.86962726 0.86237622 0.86614842 0.86195704\n",
      " 0.86677716 0.86790881 0.88974594 0.8612865  0.86367556 0.85902306\n",
      " 0.86375937 0.84234141 0.85944224 0.87524373 0.87314804 0.8669029\n",
      " 0.88262058 0.89330859 0.8846324  0.88618323 0.89812864 0.9043319\n",
      " 0.90173329 0.88035721 0.87956092 0.88308163 0.89142246 0.89255411\n",
      " 0.87759091 0.86002904 0.84745489 0.84368262 0.8497182  0.84665854\n",
      " 0.86660947 0.8654766  0.8540215  0.8540215  0.85775593 0.87076353\n",
      " 0.85725243 0.86992434 0.87101528 0.8740364  0.87202234 0.87768689\n",
      " 0.89027486 0.89946409 0.89891859 0.90898901 0.91847193 0.93131165\n",
      " 0.93282221 0.93294808 0.9321089  0.94851524 0.95279517 0.9474243\n",
      " 0.95359241 0.95430572 0.96651601 0.97675424 0.95397004 0.96127102\n",
      " 0.98099223 0.9842651  0.99655938 1.         0.98560778 0.97138337\n",
      " 0.96391452 0.93634689 0.93429083 0.81288755 0.76464504 0.70897323\n",
      " 0.65870506 0.61685419 0.58347505 0.5577687  0.53868735 0.52517462\n",
      " 0.51626772 0.51112813 0.50903797 0.50938636 0.51165342 0.51539731\n",
      " 0.52024138 0.52586412 0.53199023 0.53838277]\n",
      "19 day output [[0.54483914]]\n",
      "20 day input [0.84640705 0.8468681  0.84573644 0.81983374 0.82180362 0.83815003\n",
      " 0.8724355  0.86962726 0.86237622 0.86614842 0.86195704 0.86677716\n",
      " 0.86790881 0.88974594 0.8612865  0.86367556 0.85902306 0.86375937\n",
      " 0.84234141 0.85944224 0.87524373 0.87314804 0.8669029  0.88262058\n",
      " 0.89330859 0.8846324  0.88618323 0.89812864 0.9043319  0.90173329\n",
      " 0.88035721 0.87956092 0.88308163 0.89142246 0.89255411 0.87759091\n",
      " 0.86002904 0.84745489 0.84368262 0.8497182  0.84665854 0.86660947\n",
      " 0.8654766  0.8540215  0.8540215  0.85775593 0.87076353 0.85725243\n",
      " 0.86992434 0.87101528 0.8740364  0.87202234 0.87768689 0.89027486\n",
      " 0.89946409 0.89891859 0.90898901 0.91847193 0.93131165 0.93282221\n",
      " 0.93294808 0.9321089  0.94851524 0.95279517 0.9474243  0.95359241\n",
      " 0.95430572 0.96651601 0.97675424 0.95397004 0.96127102 0.98099223\n",
      " 0.9842651  0.99655938 1.         0.98560778 0.97138337 0.96391452\n",
      " 0.93634689 0.93429083 0.81288755 0.76464504 0.70897323 0.65870506\n",
      " 0.61685419 0.58347505 0.5577687  0.53868735 0.52517462 0.51626772\n",
      " 0.51112813 0.50903797 0.50938636 0.51165342 0.51539731 0.52024138\n",
      " 0.52586412 0.53199023 0.53838277 0.54483914]\n",
      "20 day output [[0.551185]]\n",
      "21 day input [0.8468681  0.84573644 0.81983374 0.82180362 0.83815003 0.8724355\n",
      " 0.86962726 0.86237622 0.86614842 0.86195704 0.86677716 0.86790881\n",
      " 0.88974594 0.8612865  0.86367556 0.85902306 0.86375937 0.84234141\n",
      " 0.85944224 0.87524373 0.87314804 0.8669029  0.88262058 0.89330859\n",
      " 0.8846324  0.88618323 0.89812864 0.9043319  0.90173329 0.88035721\n",
      " 0.87956092 0.88308163 0.89142246 0.89255411 0.87759091 0.86002904\n",
      " 0.84745489 0.84368262 0.8497182  0.84665854 0.86660947 0.8654766\n",
      " 0.8540215  0.8540215  0.85775593 0.87076353 0.85725243 0.86992434\n",
      " 0.87101528 0.8740364  0.87202234 0.87768689 0.89027486 0.89946409\n",
      " 0.89891859 0.90898901 0.91847193 0.93131165 0.93282221 0.93294808\n",
      " 0.9321089  0.94851524 0.95279517 0.9474243  0.95359241 0.95430572\n",
      " 0.96651601 0.97675424 0.95397004 0.96127102 0.98099223 0.9842651\n",
      " 0.99655938 1.         0.98560778 0.97138337 0.96391452 0.93634689\n",
      " 0.93429083 0.81288755 0.76464504 0.70897323 0.65870506 0.61685419\n",
      " 0.58347505 0.5577687  0.53868735 0.52517462 0.51626772 0.51112813\n",
      " 0.50903797 0.50938636 0.51165342 0.51539731 0.52024138 0.52586412\n",
      " 0.53199023 0.53838277 0.54483914 0.55118501]\n",
      "21 day output [[0.5572737]]\n",
      "22 day input [0.84573644 0.81983374 0.82180362 0.83815003 0.8724355  0.86962726\n",
      " 0.86237622 0.86614842 0.86195704 0.86677716 0.86790881 0.88974594\n",
      " 0.8612865  0.86367556 0.85902306 0.86375937 0.84234141 0.85944224\n",
      " 0.87524373 0.87314804 0.8669029  0.88262058 0.89330859 0.8846324\n",
      " 0.88618323 0.89812864 0.9043319  0.90173329 0.88035721 0.87956092\n",
      " 0.88308163 0.89142246 0.89255411 0.87759091 0.86002904 0.84745489\n",
      " 0.84368262 0.8497182  0.84665854 0.86660947 0.8654766  0.8540215\n",
      " 0.8540215  0.85775593 0.87076353 0.85725243 0.86992434 0.87101528\n",
      " 0.8740364  0.87202234 0.87768689 0.89027486 0.89946409 0.89891859\n",
      " 0.90898901 0.91847193 0.93131165 0.93282221 0.93294808 0.9321089\n",
      " 0.94851524 0.95279517 0.9474243  0.95359241 0.95430572 0.96651601\n",
      " 0.97675424 0.95397004 0.96127102 0.98099223 0.9842651  0.99655938\n",
      " 1.         0.98560778 0.97138337 0.96391452 0.93634689 0.93429083\n",
      " 0.81288755 0.76464504 0.70897323 0.65870506 0.61685419 0.58347505\n",
      " 0.5577687  0.53868735 0.52517462 0.51626772 0.51112813 0.50903797\n",
      " 0.50938636 0.51165342 0.51539731 0.52024138 0.52586412 0.53199023\n",
      " 0.53838277 0.54483914 0.55118501 0.55727369]\n",
      "22 day output [[0.56298244]]\n",
      "23 day input [0.81983374 0.82180362 0.83815003 0.8724355  0.86962726 0.86237622\n",
      " 0.86614842 0.86195704 0.86677716 0.86790881 0.88974594 0.8612865\n",
      " 0.86367556 0.85902306 0.86375937 0.84234141 0.85944224 0.87524373\n",
      " 0.87314804 0.8669029  0.88262058 0.89330859 0.8846324  0.88618323\n",
      " 0.89812864 0.9043319  0.90173329 0.88035721 0.87956092 0.88308163\n",
      " 0.89142246 0.89255411 0.87759091 0.86002904 0.84745489 0.84368262\n",
      " 0.8497182  0.84665854 0.86660947 0.8654766  0.8540215  0.8540215\n",
      " 0.85775593 0.87076353 0.85725243 0.86992434 0.87101528 0.8740364\n",
      " 0.87202234 0.87768689 0.89027486 0.89946409 0.89891859 0.90898901\n",
      " 0.91847193 0.93131165 0.93282221 0.93294808 0.9321089  0.94851524\n",
      " 0.95279517 0.9474243  0.95359241 0.95430572 0.96651601 0.97675424\n",
      " 0.95397004 0.96127102 0.98099223 0.9842651  0.99655938 1.\n",
      " 0.98560778 0.97138337 0.96391452 0.93634689 0.93429083 0.81288755\n",
      " 0.76464504 0.70897323 0.65870506 0.61685419 0.58347505 0.5577687\n",
      " 0.53868735 0.52517462 0.51626772 0.51112813 0.50903797 0.50938636\n",
      " 0.51165342 0.51539731 0.52024138 0.52586412 0.53199023 0.53838277\n",
      " 0.54483914 0.55118501 0.55727369 0.56298244]\n",
      "23 day output [[0.5682128]]\n",
      "24 day input [0.82180362 0.83815003 0.8724355  0.86962726 0.86237622 0.86614842\n",
      " 0.86195704 0.86677716 0.86790881 0.88974594 0.8612865  0.86367556\n",
      " 0.85902306 0.86375937 0.84234141 0.85944224 0.87524373 0.87314804\n",
      " 0.8669029  0.88262058 0.89330859 0.8846324  0.88618323 0.89812864\n",
      " 0.9043319  0.90173329 0.88035721 0.87956092 0.88308163 0.89142246\n",
      " 0.89255411 0.87759091 0.86002904 0.84745489 0.84368262 0.8497182\n",
      " 0.84665854 0.86660947 0.8654766  0.8540215  0.8540215  0.85775593\n",
      " 0.87076353 0.85725243 0.86992434 0.87101528 0.8740364  0.87202234\n",
      " 0.87768689 0.89027486 0.89946409 0.89891859 0.90898901 0.91847193\n",
      " 0.93131165 0.93282221 0.93294808 0.9321089  0.94851524 0.95279517\n",
      " 0.9474243  0.95359241 0.95430572 0.96651601 0.97675424 0.95397004\n",
      " 0.96127102 0.98099223 0.9842651  0.99655938 1.         0.98560778\n",
      " 0.97138337 0.96391452 0.93634689 0.93429083 0.81288755 0.76464504\n",
      " 0.70897323 0.65870506 0.61685419 0.58347505 0.5577687  0.53868735\n",
      " 0.52517462 0.51626772 0.51112813 0.50903797 0.50938636 0.51165342\n",
      " 0.51539731 0.52024138 0.52586412 0.53199023 0.53838277 0.54483914\n",
      " 0.55118501 0.55727369 0.56298244 0.56821281]\n",
      "24 day output [[0.57288903]]\n",
      "25 day input [0.83815003 0.8724355  0.86962726 0.86237622 0.86614842 0.86195704\n",
      " 0.86677716 0.86790881 0.88974594 0.8612865  0.86367556 0.85902306\n",
      " 0.86375937 0.84234141 0.85944224 0.87524373 0.87314804 0.8669029\n",
      " 0.88262058 0.89330859 0.8846324  0.88618323 0.89812864 0.9043319\n",
      " 0.90173329 0.88035721 0.87956092 0.88308163 0.89142246 0.89255411\n",
      " 0.87759091 0.86002904 0.84745489 0.84368262 0.8497182  0.84665854\n",
      " 0.86660947 0.8654766  0.8540215  0.8540215  0.85775593 0.87076353\n",
      " 0.85725243 0.86992434 0.87101528 0.8740364  0.87202234 0.87768689\n",
      " 0.89027486 0.89946409 0.89891859 0.90898901 0.91847193 0.93131165\n",
      " 0.93282221 0.93294808 0.9321089  0.94851524 0.95279517 0.9474243\n",
      " 0.95359241 0.95430572 0.96651601 0.97675424 0.95397004 0.96127102\n",
      " 0.98099223 0.9842651  0.99655938 1.         0.98560778 0.97138337\n",
      " 0.96391452 0.93634689 0.93429083 0.81288755 0.76464504 0.70897323\n",
      " 0.65870506 0.61685419 0.58347505 0.5577687  0.53868735 0.52517462\n",
      " 0.51626772 0.51112813 0.50903797 0.50938636 0.51165342 0.51539731\n",
      " 0.52024138 0.52586412 0.53199023 0.53838277 0.54483914 0.55118501\n",
      " 0.55727369 0.56298244 0.56821281 0.57288903]\n",
      "25 day output [[0.57695776]]\n",
      "26 day input [0.8724355  0.86962726 0.86237622 0.86614842 0.86195704 0.86677716\n",
      " 0.86790881 0.88974594 0.8612865  0.86367556 0.85902306 0.86375937\n",
      " 0.84234141 0.85944224 0.87524373 0.87314804 0.8669029  0.88262058\n",
      " 0.89330859 0.8846324  0.88618323 0.89812864 0.9043319  0.90173329\n",
      " 0.88035721 0.87956092 0.88308163 0.89142246 0.89255411 0.87759091\n",
      " 0.86002904 0.84745489 0.84368262 0.8497182  0.84665854 0.86660947\n",
      " 0.8654766  0.8540215  0.8540215  0.85775593 0.87076353 0.85725243\n",
      " 0.86992434 0.87101528 0.8740364  0.87202234 0.87768689 0.89027486\n",
      " 0.89946409 0.89891859 0.90898901 0.91847193 0.93131165 0.93282221\n",
      " 0.93294808 0.9321089  0.94851524 0.95279517 0.9474243  0.95359241\n",
      " 0.95430572 0.96651601 0.97675424 0.95397004 0.96127102 0.98099223\n",
      " 0.9842651  0.99655938 1.         0.98560778 0.97138337 0.96391452\n",
      " 0.93634689 0.93429083 0.81288755 0.76464504 0.70897323 0.65870506\n",
      " 0.61685419 0.58347505 0.5577687  0.53868735 0.52517462 0.51626772\n",
      " 0.51112813 0.50903797 0.50938636 0.51165342 0.51539731 0.52024138\n",
      " 0.52586412 0.53199023 0.53838277 0.54483914 0.55118501 0.55727369\n",
      " 0.56298244 0.56821281 0.57288903 0.57695776]\n",
      "26 day output [[0.58038664]]\n",
      "27 day input [0.86962726 0.86237622 0.86614842 0.86195704 0.86677716 0.86790881\n",
      " 0.88974594 0.8612865  0.86367556 0.85902306 0.86375937 0.84234141\n",
      " 0.85944224 0.87524373 0.87314804 0.8669029  0.88262058 0.89330859\n",
      " 0.8846324  0.88618323 0.89812864 0.9043319  0.90173329 0.88035721\n",
      " 0.87956092 0.88308163 0.89142246 0.89255411 0.87759091 0.86002904\n",
      " 0.84745489 0.84368262 0.8497182  0.84665854 0.86660947 0.8654766\n",
      " 0.8540215  0.8540215  0.85775593 0.87076353 0.85725243 0.86992434\n",
      " 0.87101528 0.8740364  0.87202234 0.87768689 0.89027486 0.89946409\n",
      " 0.89891859 0.90898901 0.91847193 0.93131165 0.93282221 0.93294808\n",
      " 0.9321089  0.94851524 0.95279517 0.9474243  0.95359241 0.95430572\n",
      " 0.96651601 0.97675424 0.95397004 0.96127102 0.98099223 0.9842651\n",
      " 0.99655938 1.         0.98560778 0.97138337 0.96391452 0.93634689\n",
      " 0.93429083 0.81288755 0.76464504 0.70897323 0.65870506 0.61685419\n",
      " 0.58347505 0.5577687  0.53868735 0.52517462 0.51626772 0.51112813\n",
      " 0.50903797 0.50938636 0.51165342 0.51539731 0.52024138 0.52586412\n",
      " 0.53199023 0.53838277 0.54483914 0.55118501 0.55727369 0.56298244\n",
      " 0.56821281 0.57288903 0.57695776 0.58038664]\n",
      "27 day output [[0.58316296]]\n",
      "28 day input [0.86237622 0.86614842 0.86195704 0.86677716 0.86790881 0.88974594\n",
      " 0.8612865  0.86367556 0.85902306 0.86375937 0.84234141 0.85944224\n",
      " 0.87524373 0.87314804 0.8669029  0.88262058 0.89330859 0.8846324\n",
      " 0.88618323 0.89812864 0.9043319  0.90173329 0.88035721 0.87956092\n",
      " 0.88308163 0.89142246 0.89255411 0.87759091 0.86002904 0.84745489\n",
      " 0.84368262 0.8497182  0.84665854 0.86660947 0.8654766  0.8540215\n",
      " 0.8540215  0.85775593 0.87076353 0.85725243 0.86992434 0.87101528\n",
      " 0.8740364  0.87202234 0.87768689 0.89027486 0.89946409 0.89891859\n",
      " 0.90898901 0.91847193 0.93131165 0.93282221 0.93294808 0.9321089\n",
      " 0.94851524 0.95279517 0.9474243  0.95359241 0.95430572 0.96651601\n",
      " 0.97675424 0.95397004 0.96127102 0.98099223 0.9842651  0.99655938\n",
      " 1.         0.98560778 0.97138337 0.96391452 0.93634689 0.93429083\n",
      " 0.81288755 0.76464504 0.70897323 0.65870506 0.61685419 0.58347505\n",
      " 0.5577687  0.53868735 0.52517462 0.51626772 0.51112813 0.50903797\n",
      " 0.50938636 0.51165342 0.51539731 0.52024138 0.52586412 0.53199023\n",
      " 0.53838277 0.54483914 0.55118501 0.55727369 0.56298244 0.56821281\n",
      " 0.57288903 0.57695776 0.58038664 0.58316296]\n",
      "28 day output [[0.5852928]]\n",
      "29 day input [0.86614842 0.86195704 0.86677716 0.86790881 0.88974594 0.8612865\n",
      " 0.86367556 0.85902306 0.86375937 0.84234141 0.85944224 0.87524373\n",
      " 0.87314804 0.8669029  0.88262058 0.89330859 0.8846324  0.88618323\n",
      " 0.89812864 0.9043319  0.90173329 0.88035721 0.87956092 0.88308163\n",
      " 0.89142246 0.89255411 0.87759091 0.86002904 0.84745489 0.84368262\n",
      " 0.8497182  0.84665854 0.86660947 0.8654766  0.8540215  0.8540215\n",
      " 0.85775593 0.87076353 0.85725243 0.86992434 0.87101528 0.8740364\n",
      " 0.87202234 0.87768689 0.89027486 0.89946409 0.89891859 0.90898901\n",
      " 0.91847193 0.93131165 0.93282221 0.93294808 0.9321089  0.94851524\n",
      " 0.95279517 0.9474243  0.95359241 0.95430572 0.96651601 0.97675424\n",
      " 0.95397004 0.96127102 0.98099223 0.9842651  0.99655938 1.\n",
      " 0.98560778 0.97138337 0.96391452 0.93634689 0.93429083 0.81288755\n",
      " 0.76464504 0.70897323 0.65870506 0.61685419 0.58347505 0.5577687\n",
      " 0.53868735 0.52517462 0.51626772 0.51112813 0.50903797 0.50938636\n",
      " 0.51165342 0.51539731 0.52024138 0.52586412 0.53199023 0.53838277\n",
      " 0.54483914 0.55118501 0.55727369 0.56298244 0.56821281 0.57288903\n",
      " 0.57695776 0.58038664 0.58316296 0.58529282]\n",
      "29 day output [[0.5867979]]\n",
      "[[0.8128875494003296], [0.7646450400352478], [0.708973228931427], [0.6587050557136536], [0.616854190826416], [0.5834750533103943], [0.557768702507019], [0.5386873483657837], [0.525174617767334], [0.516267716884613], [0.5111281275749207], [0.509037971496582], [0.5093863606452942], [0.5116534233093262], [0.515397310256958], [0.520241379737854], [0.5258641242980957], [0.5319902300834656], [0.5383827686309814], [0.5448391437530518], [0.5511850118637085], [0.5572736859321594], [0.562982439994812], [0.5682128071784973], [0.5728890299797058], [0.5769577622413635], [0.5803866386413574], [0.5831629633903503], [0.5852928161621094], [0.5867978930473328]]\n"
     ]
    }
   ],
   "source": [
    "# demonstrate prediction for next 10 days\n",
    "from numpy import array\n",
    "\n",
    "lst_output=[]\n",
    "n_steps=100\n",
    "i=0\n",
    "while(i<30):\n",
    "    \n",
    "    if(len(temp_input)>100):\n",
    "        #print(temp_input)\n",
    "        x_input=np.array(temp_input[1:])\n",
    "        print(\"{} day input {}\".format(i,x_input))\n",
    "        # x_input=x_input.reshape(1,-1)\n",
    "        x_input = x_input.reshape((1, n_steps, 1))\n",
    "        #print(x_input)\n",
    "        yhat = model.predict(x_input, verbose=0)\n",
    "        print(\"{} day output {}\".format(i,yhat))\n",
    "        temp_input.extend(yhat[0].tolist())\n",
    "        temp_input=temp_input[1:]\n",
    "        #print(temp_input)\n",
    "        lst_output.extend(yhat.tolist())\n",
    "        i=i+1\n",
    "    else:\n",
    "        x_input = np.array(temp_input)\n",
    "        x_input = x_input.reshape((1, n_steps,1))\n",
    "        yhat = model.predict(x_input, verbose=0)\n",
    "        print(yhat[0])\n",
    "        temp_input.extend(yhat[0].tolist())\n",
    "        print(len(temp_input))\n",
    "        lst_output.extend(yhat.tolist())\n",
    "        i=i+1\n",
    "    \n",
    "\n",
    "print(lst_output)"
   ]
  },
  {
   "cell_type": "code",
   "execution_count": 44,
   "metadata": {},
   "outputs": [
    {
     "data": {
      "text/plain": [
       "2517"
      ]
     },
     "execution_count": 44,
     "metadata": {},
     "output_type": "execute_result"
    }
   ],
   "source": [
    "len(df1)"
   ]
  },
  {
   "cell_type": "code",
   "execution_count": 47,
   "metadata": {},
   "outputs": [
    {
     "data": {
      "text/plain": [
       "[<matplotlib.lines.Line2D at 0x1f410a883b0>]"
      ]
     },
     "execution_count": 47,
     "metadata": {},
     "output_type": "execute_result"
    },
    {
     "data": {
      "image/png": "[encoded data removed]",
      "text/plain": [
       "<Figure size 640x480 with 1 Axes>"
      ]
     },
     "metadata": {},
     "output_type": "display_data"
    }
   ],
   "source": [
    "plt.plot(day_new,scaler.inverse_transform(df1[2417:]))\n",
    "plt.plot(day_pred,scaler.inverse_transform(lst_output))"
   ]
  },
  {
   "cell_type": "code",
   "execution_count": 48,
   "metadata": {},
   "outputs": [
    {
     "data": {
      "text/plain": [
       "[<matplotlib.lines.Line2D at 0x1f40fc06ab0>]"
      ]
     },
     "execution_count": 48,
     "metadata": {},
     "output_type": "execute_result"
    },
    {
     "data": {
      "image/png": "[encoded data removed]",
      "text/plain": [
       "<Figure size 640x480 with 1 Axes>"
      ]
     },
     "metadata": {},
     "output_type": "display_data"
    }
   ],
   "source": [
    "df3=df1.tolist()\n",
    "df3.extend(lst_output)\n",
    "plt.plot(df3[2500:])"
   ]
  },
  {
   "cell_type": "code",
   "execution_count": 49,
   "metadata": {},
   "outputs": [],
   "source": [
    "df3=scaler.inverse_transform(df3).tolist()"
   ]
  },
  {
   "cell_type": "code",
   "execution_count": 50,
   "metadata": {},
   "outputs": [
    {
     "data": {
      "text/plain": [
       "[<matplotlib.lines.Line2D at 0x1f411d8db80>]"
      ]
     },
     "execution_count": 50,
     "metadata": {},
     "output_type": "execute_result"
    },
    {
     "data": {
      "image/png": "[encoded data removed]",
      "text/plain": [
       "<Figure size 640x480 with 1 Axes>"
      ]
     },
     "metadata": {},
     "output_type": "display_data"
    }
   ],
   "source": [
    "plt.plot(df3)"
   ]
  }
 ],
 "metadata": {
  "kernelspec": {
   "display_name": "Python 3",
   "language": "python",
   "name": "python3"
  },
  "language_info": {
   "codemirror_mode": {
    "name": "ipython",
    "version": 3
   },
   "file_extension": ".py",
   "mimetype": "text/x-python",
   "name": "python",
   "nbconvert_exporter": "python",
   "pygments_lexer": "ipython3",
   "version": "3.12.3"
  }
 },
 "nbformat": 4,
 "nbformat_minor": 2
}
